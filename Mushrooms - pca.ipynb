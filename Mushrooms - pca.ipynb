{
 "cells": [
  {
   "cell_type": "markdown",
   "id": "4b2f0c59",
   "metadata": {},
   "source": [
    "# <span style=\"color:Cyan;\"> Explanation </span>\n"
   ]
  },
  {
   "cell_type": "markdown",
   "id": "a4a827ff-c06f-4b99-a200-37b6b6934f92",
   "metadata": {},
   "source": [
    "-  in the dataset mushrooms are classified as either edible or poisonous, where edible is denoted as 'e' and poisonous is denoted as 'p' in the data set.\n",
    "\n",
    "-  We are going to build a model that can take some selected features and predict if a mushroom is edible or poisonous\n",
    "\n",
    "-  Each character in the data set has some specific meaning, for example - in column (cap-shape) b stands for column bell, c = conical, f = flat and s = sunken.\n"
   ]
  },
  {
   "cell_type": "markdown",
   "id": "dcacc012-579b-4a4c-a4ed-772548f546b6",
   "metadata": {},
   "source": [
    "-  This is a checklist which shows what each character means\n",
    "\n",
    "   -  cap-shape: bell=b,conical=c,convex=x,flat=f, knobbed=k,sunken=s\n",
    "\n",
    "   -  cap-surface: fibrous=f,grooves=g,scaly=y,smooth=s\n",
    "\n",
    "   -  cap-color: brown=n,buff=b,cinnamon=c,gray=g,green=r, pink=p,purple=u,red=e,white=w,yellow=y\n",
    "\n",
    "   -  bruises?: bruises=t,no=f\n",
    "\n",
    "   -  odor: almond=a,anise=l,creosote=c,fishy=y,foul=f, musty=m,none=n,pungent=p,spicy=s\n",
    "\n",
    "   -  gill-attachment: attached=a,descending=d,free=f,notched=n\n",
    "\n",
    "   -  gill-spacing: close=c,crowded=w,distant=d gill-size: broad=b,narrow=n\n",
    "\n",
    "   -  gill-color: black=k,brown=n,buff=b,chocolate=h,gray=g, green=r,orange=o,pink=p,purple=u,red=e, white=w,yellow=y\n",
    "\n",
    "   -  stalk-shape: enlarging=e,tapering=t\n",
    "\n",
    "   -  stalk-root: bulbous=b,club=c,cup=u,equal=e, rhizomorphs=z,rooted=r,missing=?\n",
    "\n",
    "   -  stalk-surface-above-ring: fibrous=f,scaly=y,silky=k,smooth=s\n",
    "\n",
    "   -  stalk-surface-below-ring: fibrous=f,scaly=y,silky=k,smooth=s\n",
    "\n",
    "   -  stalk-color-above-ring: brown=n,buff=b,cinnamon=c,gray=g,orange=o, pink=p,red=e,white=w,yellow=y\n",
    "\n",
    "   -  stalk-color-below-ring: brown=n,buff=b,cinnamon=c,gray=g,orange=o, pink=p,red=e,white=w,yellow=y\n",
    "\n",
    "   -  veil-type: partial=p,universal=u\n",
    "\n",
    "   -  veil-color: brown=n,orange=o,white=w,yellow=y\n",
    "\n",
    "   -  ring-number: none=n,one=o,two=t\n",
    "\n",
    "   -  ring-type: cobwebby=c,evanescent=e,flaring=f,large=l, none=n,pendant=p,sheathing=s,zone=z\n",
    "\n",
    "   -  spore-print-color: black=k,brown=n,buff=b,chocolate=h,green=r, orange=o,purple=u,white=w,yellow=y\n",
    "\n",
    "   -  population: abundant=a,clustered=c,numerous=n, scattered=s,several=v,solitary=y\n",
    "\n",
    "   -  habitat: grasses=g,leaves=l,meadows=m,paths=p, urban=u,waste=w,woods=dt\n"
   ]
  },
  {
   "cell_type": "markdown",
   "id": "5ce76ff4-fc09-475d-a445-dceb0f2dac0e",
   "metadata": {},
   "source": [
    "# <span style=\"color:Cyan\"> Exploratory Data Analysis (EDA) </span>\n"
   ]
  },
  {
   "cell_type": "markdown",
   "id": "a40b00d4",
   "metadata": {},
   "source": [
    "## <span style=\"color:#00FF8B; font-size: 28px;\"> Importing useful libraries for our data </span>\n"
   ]
  },
  {
   "cell_type": "code",
   "execution_count": 26,
   "id": "14e11a23",
   "metadata": {},
   "outputs": [],
   "source": [
    "# لو اول مره ترن البروجكت ع الجهاز الغى الكومنت من ع الكود ده\n",
    "\"\"\"\n",
    "%pip install pandas\n",
    "%pip install seaborn\n",
    "%pip install matplotlib\n",
    "%pip install plotly\n",
    "%pip install scikit-learn\n",
    "%pip install nbformat\n",
    "\n",
    "\"\"\"\n",
    "\n",
    "# Manipulation\n",
    "import pandas as pd\n",
    "import numpy as np\n",
    "\n",
    "# Graphs\n",
    "import seaborn as sns\n",
    "import matplotlib.pyplot as plt\n",
    "import matplotlib.pylab as pylab\n",
    "import plotly.graph_objs as go\n",
    "import plotly.express as px\n",
    "\n",
    "# Notebook interacting\n",
    "import nbformat\n",
    "\n",
    "# Machine learning\n",
    "import sklearn\n",
    "\n",
    "# PCA (Principal Component Analysis)\n",
    "from sklearn.decomposition import PCA\n",
    "from sklearn.datasets import load_iris\n",
    "\n",
    "\n",
    "# Model\n",
    "from sklearn.model_selection import train_test_split\n",
    "from sklearn import preprocessing\n",
    "from sklearn.svm import SVC\n",
    "from sklearn.model_selection import GridSearchCV\n",
    "from sklearn.preprocessing import LabelEncoder"
   ]
  },
  {
   "cell_type": "markdown",
   "id": "b0b19c89",
   "metadata": {},
   "source": [
    "## <span style=\"color:#00FF8B; font-size: 28px;\"> Reading the data </span>\n"
   ]
  },
  {
   "cell_type": "code",
   "execution_count": 27,
   "id": "6779dfd1",
   "metadata": {},
   "outputs": [
    {
     "data": {
      "text/html": [
       "<div>\n",
       "<style scoped>\n",
       "    .dataframe tbody tr th:only-of-type {\n",
       "        vertical-align: middle;\n",
       "    }\n",
       "\n",
       "    .dataframe tbody tr th {\n",
       "        vertical-align: top;\n",
       "    }\n",
       "\n",
       "    .dataframe thead th {\n",
       "        text-align: right;\n",
       "    }\n",
       "</style>\n",
       "<table border=\"1\" class=\"dataframe\">\n",
       "  <thead>\n",
       "    <tr style=\"text-align: right;\">\n",
       "      <th></th>\n",
       "      <th>class</th>\n",
       "      <th>cap-shape</th>\n",
       "      <th>cap-surface</th>\n",
       "      <th>cap-color</th>\n",
       "      <th>bruises</th>\n",
       "      <th>odor</th>\n",
       "      <th>gill-attachment</th>\n",
       "      <th>gill-spacing</th>\n",
       "      <th>gill-size</th>\n",
       "      <th>gill-color</th>\n",
       "      <th>...</th>\n",
       "      <th>stalk-surface-below-ring</th>\n",
       "      <th>stalk-color-above-ring</th>\n",
       "      <th>stalk-color-below-ring</th>\n",
       "      <th>veil-type</th>\n",
       "      <th>veil-color</th>\n",
       "      <th>ring-number</th>\n",
       "      <th>ring-type</th>\n",
       "      <th>spore-print-color</th>\n",
       "      <th>population</th>\n",
       "      <th>habitat</th>\n",
       "    </tr>\n",
       "  </thead>\n",
       "  <tbody>\n",
       "    <tr>\n",
       "      <th>0</th>\n",
       "      <td>e</td>\n",
       "      <td>x</td>\n",
       "      <td>s</td>\n",
       "      <td>y</td>\n",
       "      <td>t</td>\n",
       "      <td>a</td>\n",
       "      <td>f</td>\n",
       "      <td>c</td>\n",
       "      <td>b</td>\n",
       "      <td>k</td>\n",
       "      <td>...</td>\n",
       "      <td>s</td>\n",
       "      <td>w</td>\n",
       "      <td>w</td>\n",
       "      <td>p</td>\n",
       "      <td>w</td>\n",
       "      <td>o</td>\n",
       "      <td>p</td>\n",
       "      <td>n</td>\n",
       "      <td>n</td>\n",
       "      <td>g</td>\n",
       "    </tr>\n",
       "    <tr>\n",
       "      <th>1</th>\n",
       "      <td>e</td>\n",
       "      <td>b</td>\n",
       "      <td>s</td>\n",
       "      <td>w</td>\n",
       "      <td>t</td>\n",
       "      <td>l</td>\n",
       "      <td>f</td>\n",
       "      <td>c</td>\n",
       "      <td>b</td>\n",
       "      <td>n</td>\n",
       "      <td>...</td>\n",
       "      <td>s</td>\n",
       "      <td>w</td>\n",
       "      <td>w</td>\n",
       "      <td>p</td>\n",
       "      <td>w</td>\n",
       "      <td>o</td>\n",
       "      <td>p</td>\n",
       "      <td>n</td>\n",
       "      <td>n</td>\n",
       "      <td>m</td>\n",
       "    </tr>\n",
       "    <tr>\n",
       "      <th>2</th>\n",
       "      <td>e</td>\n",
       "      <td>x</td>\n",
       "      <td>s</td>\n",
       "      <td>g</td>\n",
       "      <td>f</td>\n",
       "      <td>n</td>\n",
       "      <td>f</td>\n",
       "      <td>w</td>\n",
       "      <td>b</td>\n",
       "      <td>k</td>\n",
       "      <td>...</td>\n",
       "      <td>s</td>\n",
       "      <td>w</td>\n",
       "      <td>w</td>\n",
       "      <td>p</td>\n",
       "      <td>w</td>\n",
       "      <td>o</td>\n",
       "      <td>e</td>\n",
       "      <td>n</td>\n",
       "      <td>a</td>\n",
       "      <td>g</td>\n",
       "    </tr>\n",
       "    <tr>\n",
       "      <th>3</th>\n",
       "      <td>e</td>\n",
       "      <td>x</td>\n",
       "      <td>y</td>\n",
       "      <td>y</td>\n",
       "      <td>t</td>\n",
       "      <td>a</td>\n",
       "      <td>f</td>\n",
       "      <td>c</td>\n",
       "      <td>b</td>\n",
       "      <td>n</td>\n",
       "      <td>...</td>\n",
       "      <td>s</td>\n",
       "      <td>w</td>\n",
       "      <td>w</td>\n",
       "      <td>p</td>\n",
       "      <td>w</td>\n",
       "      <td>o</td>\n",
       "      <td>p</td>\n",
       "      <td>k</td>\n",
       "      <td>n</td>\n",
       "      <td>g</td>\n",
       "    </tr>\n",
       "    <tr>\n",
       "      <th>4</th>\n",
       "      <td>e</td>\n",
       "      <td>b</td>\n",
       "      <td>s</td>\n",
       "      <td>w</td>\n",
       "      <td>t</td>\n",
       "      <td>a</td>\n",
       "      <td>f</td>\n",
       "      <td>c</td>\n",
       "      <td>b</td>\n",
       "      <td>g</td>\n",
       "      <td>...</td>\n",
       "      <td>s</td>\n",
       "      <td>w</td>\n",
       "      <td>w</td>\n",
       "      <td>p</td>\n",
       "      <td>w</td>\n",
       "      <td>o</td>\n",
       "      <td>p</td>\n",
       "      <td>k</td>\n",
       "      <td>n</td>\n",
       "      <td>m</td>\n",
       "    </tr>\n",
       "    <tr>\n",
       "      <th>...</th>\n",
       "      <td>...</td>\n",
       "      <td>...</td>\n",
       "      <td>...</td>\n",
       "      <td>...</td>\n",
       "      <td>...</td>\n",
       "      <td>...</td>\n",
       "      <td>...</td>\n",
       "      <td>...</td>\n",
       "      <td>...</td>\n",
       "      <td>...</td>\n",
       "      <td>...</td>\n",
       "      <td>...</td>\n",
       "      <td>...</td>\n",
       "      <td>...</td>\n",
       "      <td>...</td>\n",
       "      <td>...</td>\n",
       "      <td>...</td>\n",
       "      <td>...</td>\n",
       "      <td>...</td>\n",
       "      <td>...</td>\n",
       "      <td>...</td>\n",
       "    </tr>\n",
       "    <tr>\n",
       "      <th>10135</th>\n",
       "      <td>p</td>\n",
       "      <td>k</td>\n",
       "      <td>y</td>\n",
       "      <td>e</td>\n",
       "      <td>f</td>\n",
       "      <td>y</td>\n",
       "      <td>f</td>\n",
       "      <td>c</td>\n",
       "      <td>n</td>\n",
       "      <td>b</td>\n",
       "      <td>...</td>\n",
       "      <td>s</td>\n",
       "      <td>w</td>\n",
       "      <td>p</td>\n",
       "      <td>p</td>\n",
       "      <td>w</td>\n",
       "      <td>o</td>\n",
       "      <td>e</td>\n",
       "      <td>w</td>\n",
       "      <td>v</td>\n",
       "      <td>p</td>\n",
       "    </tr>\n",
       "    <tr>\n",
       "      <th>10136</th>\n",
       "      <td>p</td>\n",
       "      <td>k</td>\n",
       "      <td>s</td>\n",
       "      <td>n</td>\n",
       "      <td>f</td>\n",
       "      <td>y</td>\n",
       "      <td>f</td>\n",
       "      <td>c</td>\n",
       "      <td>n</td>\n",
       "      <td>b</td>\n",
       "      <td>...</td>\n",
       "      <td>s</td>\n",
       "      <td>w</td>\n",
       "      <td>p</td>\n",
       "      <td>p</td>\n",
       "      <td>w</td>\n",
       "      <td>o</td>\n",
       "      <td>e</td>\n",
       "      <td>w</td>\n",
       "      <td>v</td>\n",
       "      <td>p</td>\n",
       "    </tr>\n",
       "    <tr>\n",
       "      <th>10137</th>\n",
       "      <td>p</td>\n",
       "      <td>x</td>\n",
       "      <td>y</td>\n",
       "      <td>e</td>\n",
       "      <td>f</td>\n",
       "      <td>f</td>\n",
       "      <td>f</td>\n",
       "      <td>c</td>\n",
       "      <td>n</td>\n",
       "      <td>b</td>\n",
       "      <td>...</td>\n",
       "      <td>k</td>\n",
       "      <td>w</td>\n",
       "      <td>p</td>\n",
       "      <td>p</td>\n",
       "      <td>w</td>\n",
       "      <td>o</td>\n",
       "      <td>e</td>\n",
       "      <td>w</td>\n",
       "      <td>v</td>\n",
       "      <td>p</td>\n",
       "    </tr>\n",
       "    <tr>\n",
       "      <th>10138</th>\n",
       "      <td>p</td>\n",
       "      <td>f</td>\n",
       "      <td>y</td>\n",
       "      <td>y</td>\n",
       "      <td>f</td>\n",
       "      <td>n</td>\n",
       "      <td>f</td>\n",
       "      <td>w</td>\n",
       "      <td>n</td>\n",
       "      <td>w</td>\n",
       "      <td>...</td>\n",
       "      <td>y</td>\n",
       "      <td>y</td>\n",
       "      <td>y</td>\n",
       "      <td>p</td>\n",
       "      <td>y</td>\n",
       "      <td>o</td>\n",
       "      <td>e</td>\n",
       "      <td>w</td>\n",
       "      <td>c</td>\n",
       "      <td>l</td>\n",
       "    </tr>\n",
       "    <tr>\n",
       "      <th>10139</th>\n",
       "      <td>p</td>\n",
       "      <td>x</td>\n",
       "      <td>y</td>\n",
       "      <td>c</td>\n",
       "      <td>f</td>\n",
       "      <td>m</td>\n",
       "      <td>a</td>\n",
       "      <td>c</td>\n",
       "      <td>b</td>\n",
       "      <td>w</td>\n",
       "      <td>...</td>\n",
       "      <td>y</td>\n",
       "      <td>c</td>\n",
       "      <td>c</td>\n",
       "      <td>p</td>\n",
       "      <td>w</td>\n",
       "      <td>n</td>\n",
       "      <td>n</td>\n",
       "      <td>w</td>\n",
       "      <td>c</td>\n",
       "      <td>d</td>\n",
       "    </tr>\n",
       "  </tbody>\n",
       "</table>\n",
       "<p>10140 rows × 23 columns</p>\n",
       "</div>"
      ],
      "text/plain": [
       "      class cap-shape cap-surface cap-color bruises odor gill-attachment  \\\n",
       "0         e         x           s         y       t    a               f   \n",
       "1         e         b           s         w       t    l               f   \n",
       "2         e         x           s         g       f    n               f   \n",
       "3         e         x           y         y       t    a               f   \n",
       "4         e         b           s         w       t    a               f   \n",
       "...     ...       ...         ...       ...     ...  ...             ...   \n",
       "10135     p         k           y         e       f    y               f   \n",
       "10136     p         k           s         n       f    y               f   \n",
       "10137     p         x           y         e       f    f               f   \n",
       "10138     p         f           y         y       f    n               f   \n",
       "10139     p         x           y         c       f    m               a   \n",
       "\n",
       "      gill-spacing gill-size gill-color  ... stalk-surface-below-ring  \\\n",
       "0                c         b          k  ...                        s   \n",
       "1                c         b          n  ...                        s   \n",
       "2                w         b          k  ...                        s   \n",
       "3                c         b          n  ...                        s   \n",
       "4                c         b          g  ...                        s   \n",
       "...            ...       ...        ...  ...                      ...   \n",
       "10135            c         n          b  ...                        s   \n",
       "10136            c         n          b  ...                        s   \n",
       "10137            c         n          b  ...                        k   \n",
       "10138            w         n          w  ...                        y   \n",
       "10139            c         b          w  ...                        y   \n",
       "\n",
       "      stalk-color-above-ring stalk-color-below-ring veil-type veil-color  \\\n",
       "0                          w                      w         p          w   \n",
       "1                          w                      w         p          w   \n",
       "2                          w                      w         p          w   \n",
       "3                          w                      w         p          w   \n",
       "4                          w                      w         p          w   \n",
       "...                      ...                    ...       ...        ...   \n",
       "10135                      w                      p         p          w   \n",
       "10136                      w                      p         p          w   \n",
       "10137                      w                      p         p          w   \n",
       "10138                      y                      y         p          y   \n",
       "10139                      c                      c         p          w   \n",
       "\n",
       "      ring-number ring-type spore-print-color population habitat  \n",
       "0               o         p                 n          n       g  \n",
       "1               o         p                 n          n       m  \n",
       "2               o         e                 n          a       g  \n",
       "3               o         p                 k          n       g  \n",
       "4               o         p                 k          n       m  \n",
       "...           ...       ...               ...        ...     ...  \n",
       "10135           o         e                 w          v       p  \n",
       "10136           o         e                 w          v       p  \n",
       "10137           o         e                 w          v       p  \n",
       "10138           o         e                 w          c       l  \n",
       "10139           n         n                 w          c       d  \n",
       "\n",
       "[10140 rows x 23 columns]"
      ]
     },
     "execution_count": 27,
     "metadata": {},
     "output_type": "execute_result"
    }
   ],
   "source": [
    "mush = pd.read_csv(\"mushrooms.csv\")\n",
    "mush"
   ]
  },
  {
   "cell_type": "markdown",
   "id": "bdb64453",
   "metadata": {},
   "source": [
    "## <span style=\"color:#00FF8B; font-size: 28px;\"> General Preprocessing </span>\n"
   ]
  },
  {
   "cell_type": "code",
   "execution_count": 28,
   "id": "62122e2c-5cdd-4034-a54c-90491b2c37f0",
   "metadata": {},
   "outputs": [
    {
     "data": {
      "text/html": [
       "<div>\n",
       "<style scoped>\n",
       "    .dataframe tbody tr th:only-of-type {\n",
       "        vertical-align: middle;\n",
       "    }\n",
       "\n",
       "    .dataframe tbody tr th {\n",
       "        vertical-align: top;\n",
       "    }\n",
       "\n",
       "    .dataframe thead th {\n",
       "        text-align: right;\n",
       "    }\n",
       "</style>\n",
       "<table border=\"1\" class=\"dataframe\">\n",
       "  <thead>\n",
       "    <tr style=\"text-align: right;\">\n",
       "      <th></th>\n",
       "      <th>class</th>\n",
       "      <th>cap-shape</th>\n",
       "      <th>cap-surface</th>\n",
       "      <th>cap-color</th>\n",
       "      <th>bruises</th>\n",
       "      <th>odor</th>\n",
       "      <th>gill-attachment</th>\n",
       "      <th>gill-spacing</th>\n",
       "      <th>gill-size</th>\n",
       "      <th>gill-color</th>\n",
       "      <th>...</th>\n",
       "      <th>stalk-surface-below-ring</th>\n",
       "      <th>stalk-color-above-ring</th>\n",
       "      <th>stalk-color-below-ring</th>\n",
       "      <th>veil-type</th>\n",
       "      <th>veil-color</th>\n",
       "      <th>ring-number</th>\n",
       "      <th>ring-type</th>\n",
       "      <th>spore-print-color</th>\n",
       "      <th>population</th>\n",
       "      <th>habitat</th>\n",
       "    </tr>\n",
       "  </thead>\n",
       "  <tbody>\n",
       "    <tr>\n",
       "      <th>0</th>\n",
       "      <td>e</td>\n",
       "      <td>x</td>\n",
       "      <td>s</td>\n",
       "      <td>y</td>\n",
       "      <td>t</td>\n",
       "      <td>a</td>\n",
       "      <td>f</td>\n",
       "      <td>c</td>\n",
       "      <td>b</td>\n",
       "      <td>k</td>\n",
       "      <td>...</td>\n",
       "      <td>s</td>\n",
       "      <td>w</td>\n",
       "      <td>w</td>\n",
       "      <td>p</td>\n",
       "      <td>w</td>\n",
       "      <td>o</td>\n",
       "      <td>p</td>\n",
       "      <td>n</td>\n",
       "      <td>n</td>\n",
       "      <td>g</td>\n",
       "    </tr>\n",
       "    <tr>\n",
       "      <th>1</th>\n",
       "      <td>e</td>\n",
       "      <td>b</td>\n",
       "      <td>s</td>\n",
       "      <td>w</td>\n",
       "      <td>t</td>\n",
       "      <td>l</td>\n",
       "      <td>f</td>\n",
       "      <td>c</td>\n",
       "      <td>b</td>\n",
       "      <td>n</td>\n",
       "      <td>...</td>\n",
       "      <td>s</td>\n",
       "      <td>w</td>\n",
       "      <td>w</td>\n",
       "      <td>p</td>\n",
       "      <td>w</td>\n",
       "      <td>o</td>\n",
       "      <td>p</td>\n",
       "      <td>n</td>\n",
       "      <td>n</td>\n",
       "      <td>m</td>\n",
       "    </tr>\n",
       "    <tr>\n",
       "      <th>2</th>\n",
       "      <td>e</td>\n",
       "      <td>x</td>\n",
       "      <td>s</td>\n",
       "      <td>g</td>\n",
       "      <td>f</td>\n",
       "      <td>n</td>\n",
       "      <td>f</td>\n",
       "      <td>w</td>\n",
       "      <td>b</td>\n",
       "      <td>k</td>\n",
       "      <td>...</td>\n",
       "      <td>s</td>\n",
       "      <td>w</td>\n",
       "      <td>w</td>\n",
       "      <td>p</td>\n",
       "      <td>w</td>\n",
       "      <td>o</td>\n",
       "      <td>e</td>\n",
       "      <td>n</td>\n",
       "      <td>a</td>\n",
       "      <td>g</td>\n",
       "    </tr>\n",
       "    <tr>\n",
       "      <th>3</th>\n",
       "      <td>e</td>\n",
       "      <td>x</td>\n",
       "      <td>y</td>\n",
       "      <td>y</td>\n",
       "      <td>t</td>\n",
       "      <td>a</td>\n",
       "      <td>f</td>\n",
       "      <td>c</td>\n",
       "      <td>b</td>\n",
       "      <td>n</td>\n",
       "      <td>...</td>\n",
       "      <td>s</td>\n",
       "      <td>w</td>\n",
       "      <td>w</td>\n",
       "      <td>p</td>\n",
       "      <td>w</td>\n",
       "      <td>o</td>\n",
       "      <td>p</td>\n",
       "      <td>k</td>\n",
       "      <td>n</td>\n",
       "      <td>g</td>\n",
       "    </tr>\n",
       "    <tr>\n",
       "      <th>4</th>\n",
       "      <td>e</td>\n",
       "      <td>b</td>\n",
       "      <td>s</td>\n",
       "      <td>w</td>\n",
       "      <td>t</td>\n",
       "      <td>a</td>\n",
       "      <td>f</td>\n",
       "      <td>c</td>\n",
       "      <td>b</td>\n",
       "      <td>g</td>\n",
       "      <td>...</td>\n",
       "      <td>s</td>\n",
       "      <td>w</td>\n",
       "      <td>w</td>\n",
       "      <td>p</td>\n",
       "      <td>w</td>\n",
       "      <td>o</td>\n",
       "      <td>p</td>\n",
       "      <td>k</td>\n",
       "      <td>n</td>\n",
       "      <td>m</td>\n",
       "    </tr>\n",
       "  </tbody>\n",
       "</table>\n",
       "<p>5 rows × 23 columns</p>\n",
       "</div>"
      ],
      "text/plain": [
       "  class cap-shape cap-surface cap-color bruises odor gill-attachment  \\\n",
       "0     e         x           s         y       t    a               f   \n",
       "1     e         b           s         w       t    l               f   \n",
       "2     e         x           s         g       f    n               f   \n",
       "3     e         x           y         y       t    a               f   \n",
       "4     e         b           s         w       t    a               f   \n",
       "\n",
       "  gill-spacing gill-size gill-color  ... stalk-surface-below-ring  \\\n",
       "0            c         b          k  ...                        s   \n",
       "1            c         b          n  ...                        s   \n",
       "2            w         b          k  ...                        s   \n",
       "3            c         b          n  ...                        s   \n",
       "4            c         b          g  ...                        s   \n",
       "\n",
       "  stalk-color-above-ring stalk-color-below-ring veil-type veil-color  \\\n",
       "0                      w                      w         p          w   \n",
       "1                      w                      w         p          w   \n",
       "2                      w                      w         p          w   \n",
       "3                      w                      w         p          w   \n",
       "4                      w                      w         p          w   \n",
       "\n",
       "  ring-number ring-type spore-print-color population habitat  \n",
       "0           o         p                 n          n       g  \n",
       "1           o         p                 n          n       m  \n",
       "2           o         e                 n          a       g  \n",
       "3           o         p                 k          n       g  \n",
       "4           o         p                 k          n       m  \n",
       "\n",
       "[5 rows x 23 columns]"
      ]
     },
     "execution_count": 28,
     "metadata": {},
     "output_type": "execute_result"
    }
   ],
   "source": [
    "mush.head(5)"
   ]
  },
  {
   "cell_type": "code",
   "execution_count": 29,
   "id": "72003fde-9189-475f-82b6-ee8c1e3cc1a2",
   "metadata": {},
   "outputs": [
    {
     "data": {
      "text/html": [
       "<div>\n",
       "<style scoped>\n",
       "    .dataframe tbody tr th:only-of-type {\n",
       "        vertical-align: middle;\n",
       "    }\n",
       "\n",
       "    .dataframe tbody tr th {\n",
       "        vertical-align: top;\n",
       "    }\n",
       "\n",
       "    .dataframe thead th {\n",
       "        text-align: right;\n",
       "    }\n",
       "</style>\n",
       "<table border=\"1\" class=\"dataframe\">\n",
       "  <thead>\n",
       "    <tr style=\"text-align: right;\">\n",
       "      <th></th>\n",
       "      <th>class</th>\n",
       "      <th>cap-shape</th>\n",
       "      <th>cap-surface</th>\n",
       "      <th>cap-color</th>\n",
       "      <th>bruises</th>\n",
       "      <th>odor</th>\n",
       "      <th>gill-attachment</th>\n",
       "      <th>gill-spacing</th>\n",
       "      <th>gill-size</th>\n",
       "      <th>gill-color</th>\n",
       "      <th>...</th>\n",
       "      <th>stalk-surface-below-ring</th>\n",
       "      <th>stalk-color-above-ring</th>\n",
       "      <th>stalk-color-below-ring</th>\n",
       "      <th>veil-type</th>\n",
       "      <th>veil-color</th>\n",
       "      <th>ring-number</th>\n",
       "      <th>ring-type</th>\n",
       "      <th>spore-print-color</th>\n",
       "      <th>population</th>\n",
       "      <th>habitat</th>\n",
       "    </tr>\n",
       "  </thead>\n",
       "  <tbody>\n",
       "    <tr>\n",
       "      <th>10135</th>\n",
       "      <td>p</td>\n",
       "      <td>k</td>\n",
       "      <td>y</td>\n",
       "      <td>e</td>\n",
       "      <td>f</td>\n",
       "      <td>y</td>\n",
       "      <td>f</td>\n",
       "      <td>c</td>\n",
       "      <td>n</td>\n",
       "      <td>b</td>\n",
       "      <td>...</td>\n",
       "      <td>s</td>\n",
       "      <td>w</td>\n",
       "      <td>p</td>\n",
       "      <td>p</td>\n",
       "      <td>w</td>\n",
       "      <td>o</td>\n",
       "      <td>e</td>\n",
       "      <td>w</td>\n",
       "      <td>v</td>\n",
       "      <td>p</td>\n",
       "    </tr>\n",
       "    <tr>\n",
       "      <th>10136</th>\n",
       "      <td>p</td>\n",
       "      <td>k</td>\n",
       "      <td>s</td>\n",
       "      <td>n</td>\n",
       "      <td>f</td>\n",
       "      <td>y</td>\n",
       "      <td>f</td>\n",
       "      <td>c</td>\n",
       "      <td>n</td>\n",
       "      <td>b</td>\n",
       "      <td>...</td>\n",
       "      <td>s</td>\n",
       "      <td>w</td>\n",
       "      <td>p</td>\n",
       "      <td>p</td>\n",
       "      <td>w</td>\n",
       "      <td>o</td>\n",
       "      <td>e</td>\n",
       "      <td>w</td>\n",
       "      <td>v</td>\n",
       "      <td>p</td>\n",
       "    </tr>\n",
       "    <tr>\n",
       "      <th>10137</th>\n",
       "      <td>p</td>\n",
       "      <td>x</td>\n",
       "      <td>y</td>\n",
       "      <td>e</td>\n",
       "      <td>f</td>\n",
       "      <td>f</td>\n",
       "      <td>f</td>\n",
       "      <td>c</td>\n",
       "      <td>n</td>\n",
       "      <td>b</td>\n",
       "      <td>...</td>\n",
       "      <td>k</td>\n",
       "      <td>w</td>\n",
       "      <td>p</td>\n",
       "      <td>p</td>\n",
       "      <td>w</td>\n",
       "      <td>o</td>\n",
       "      <td>e</td>\n",
       "      <td>w</td>\n",
       "      <td>v</td>\n",
       "      <td>p</td>\n",
       "    </tr>\n",
       "    <tr>\n",
       "      <th>10138</th>\n",
       "      <td>p</td>\n",
       "      <td>f</td>\n",
       "      <td>y</td>\n",
       "      <td>y</td>\n",
       "      <td>f</td>\n",
       "      <td>n</td>\n",
       "      <td>f</td>\n",
       "      <td>w</td>\n",
       "      <td>n</td>\n",
       "      <td>w</td>\n",
       "      <td>...</td>\n",
       "      <td>y</td>\n",
       "      <td>y</td>\n",
       "      <td>y</td>\n",
       "      <td>p</td>\n",
       "      <td>y</td>\n",
       "      <td>o</td>\n",
       "      <td>e</td>\n",
       "      <td>w</td>\n",
       "      <td>c</td>\n",
       "      <td>l</td>\n",
       "    </tr>\n",
       "    <tr>\n",
       "      <th>10139</th>\n",
       "      <td>p</td>\n",
       "      <td>x</td>\n",
       "      <td>y</td>\n",
       "      <td>c</td>\n",
       "      <td>f</td>\n",
       "      <td>m</td>\n",
       "      <td>a</td>\n",
       "      <td>c</td>\n",
       "      <td>b</td>\n",
       "      <td>w</td>\n",
       "      <td>...</td>\n",
       "      <td>y</td>\n",
       "      <td>c</td>\n",
       "      <td>c</td>\n",
       "      <td>p</td>\n",
       "      <td>w</td>\n",
       "      <td>n</td>\n",
       "      <td>n</td>\n",
       "      <td>w</td>\n",
       "      <td>c</td>\n",
       "      <td>d</td>\n",
       "    </tr>\n",
       "  </tbody>\n",
       "</table>\n",
       "<p>5 rows × 23 columns</p>\n",
       "</div>"
      ],
      "text/plain": [
       "      class cap-shape cap-surface cap-color bruises odor gill-attachment  \\\n",
       "10135     p         k           y         e       f    y               f   \n",
       "10136     p         k           s         n       f    y               f   \n",
       "10137     p         x           y         e       f    f               f   \n",
       "10138     p         f           y         y       f    n               f   \n",
       "10139     p         x           y         c       f    m               a   \n",
       "\n",
       "      gill-spacing gill-size gill-color  ... stalk-surface-below-ring  \\\n",
       "10135            c         n          b  ...                        s   \n",
       "10136            c         n          b  ...                        s   \n",
       "10137            c         n          b  ...                        k   \n",
       "10138            w         n          w  ...                        y   \n",
       "10139            c         b          w  ...                        y   \n",
       "\n",
       "      stalk-color-above-ring stalk-color-below-ring veil-type veil-color  \\\n",
       "10135                      w                      p         p          w   \n",
       "10136                      w                      p         p          w   \n",
       "10137                      w                      p         p          w   \n",
       "10138                      y                      y         p          y   \n",
       "10139                      c                      c         p          w   \n",
       "\n",
       "      ring-number ring-type spore-print-color population habitat  \n",
       "10135           o         e                 w          v       p  \n",
       "10136           o         e                 w          v       p  \n",
       "10137           o         e                 w          v       p  \n",
       "10138           o         e                 w          c       l  \n",
       "10139           n         n                 w          c       d  \n",
       "\n",
       "[5 rows x 23 columns]"
      ]
     },
     "execution_count": 29,
     "metadata": {},
     "output_type": "execute_result"
    }
   ],
   "source": [
    "mush.tail(5)"
   ]
  },
  {
   "cell_type": "code",
   "execution_count": 30,
   "id": "0de3c55e-75d7-4155-8999-f12219f562b7",
   "metadata": {},
   "outputs": [
    {
     "data": {
      "text/plain": [
       "array(['e', 'p'], dtype=object)"
      ]
     },
     "execution_count": 30,
     "metadata": {},
     "output_type": "execute_result"
    }
   ],
   "source": [
    "mush[\"class\"].unique()"
   ]
  },
  {
   "cell_type": "code",
   "execution_count": 31,
   "id": "3eb8ca46-3539-4567-bd76-086ac2696bde",
   "metadata": {},
   "outputs": [
    {
     "data": {
      "text/plain": [
       "class                       object\n",
       "cap-shape                   object\n",
       "cap-surface                 object\n",
       "cap-color                   object\n",
       "bruises                     object\n",
       "odor                        object\n",
       "gill-attachment             object\n",
       "gill-spacing                object\n",
       "gill-size                   object\n",
       "gill-color                  object\n",
       "stalk-shape                 object\n",
       "stalk-root                  object\n",
       "stalk-surface-above-ring    object\n",
       "stalk-surface-below-ring    object\n",
       "stalk-color-above-ring      object\n",
       "stalk-color-below-ring      object\n",
       "veil-type                   object\n",
       "veil-color                  object\n",
       "ring-number                 object\n",
       "ring-type                   object\n",
       "spore-print-color           object\n",
       "population                  object\n",
       "habitat                     object\n",
       "dtype: object"
      ]
     },
     "execution_count": 31,
     "metadata": {},
     "output_type": "execute_result"
    }
   ],
   "source": [
    "mush.dtypes"
   ]
  },
  {
   "cell_type": "code",
   "execution_count": 32,
   "id": "89f5d602-7659-438e-9895-4288400f5b71",
   "metadata": {},
   "outputs": [
    {
     "data": {
      "text/plain": [
       "(10140, 23)"
      ]
     },
     "execution_count": 32,
     "metadata": {},
     "output_type": "execute_result"
    }
   ],
   "source": [
    "mush.shape"
   ]
  },
  {
   "cell_type": "code",
   "execution_count": 33,
   "id": "8261dbaa-9ef8-4827-9331-45868f8cb982",
   "metadata": {},
   "outputs": [
    {
     "data": {
      "text/plain": [
       "class                       0\n",
       "cap-shape                   0\n",
       "cap-surface                 0\n",
       "cap-color                   0\n",
       "bruises                     0\n",
       "odor                        0\n",
       "gill-attachment             0\n",
       "gill-spacing                0\n",
       "gill-size                   0\n",
       "gill-color                  0\n",
       "stalk-shape                 0\n",
       "stalk-root                  0\n",
       "stalk-surface-above-ring    0\n",
       "stalk-surface-below-ring    0\n",
       "stalk-color-above-ring      0\n",
       "stalk-color-below-ring      0\n",
       "veil-type                   0\n",
       "veil-color                  0\n",
       "ring-number                 0\n",
       "ring-type                   0\n",
       "spore-print-color           0\n",
       "population                  0\n",
       "habitat                     0\n",
       "dtype: int64"
      ]
     },
     "execution_count": 33,
     "metadata": {},
     "output_type": "execute_result"
    }
   ],
   "source": [
    "mush.isnull().sum()"
   ]
  },
  {
   "cell_type": "code",
   "execution_count": 34,
   "id": "5029d4b0-967a-4916-8f5c-61277245d2a3",
   "metadata": {},
   "outputs": [
    {
     "data": {
      "text/html": [
       "<div>\n",
       "<style scoped>\n",
       "    .dataframe tbody tr th:only-of-type {\n",
       "        vertical-align: middle;\n",
       "    }\n",
       "\n",
       "    .dataframe tbody tr th {\n",
       "        vertical-align: top;\n",
       "    }\n",
       "\n",
       "    .dataframe thead th {\n",
       "        text-align: right;\n",
       "    }\n",
       "</style>\n",
       "<table border=\"1\" class=\"dataframe\">\n",
       "  <thead>\n",
       "    <tr style=\"text-align: right;\">\n",
       "      <th></th>\n",
       "      <th>class</th>\n",
       "      <th>cap-shape</th>\n",
       "      <th>cap-surface</th>\n",
       "      <th>cap-color</th>\n",
       "      <th>bruises</th>\n",
       "      <th>odor</th>\n",
       "      <th>gill-attachment</th>\n",
       "      <th>gill-spacing</th>\n",
       "      <th>gill-size</th>\n",
       "      <th>gill-color</th>\n",
       "      <th>...</th>\n",
       "      <th>stalk-surface-below-ring</th>\n",
       "      <th>stalk-color-above-ring</th>\n",
       "      <th>stalk-color-below-ring</th>\n",
       "      <th>veil-type</th>\n",
       "      <th>veil-color</th>\n",
       "      <th>ring-number</th>\n",
       "      <th>ring-type</th>\n",
       "      <th>spore-print-color</th>\n",
       "      <th>population</th>\n",
       "      <th>habitat</th>\n",
       "    </tr>\n",
       "  </thead>\n",
       "  <tbody>\n",
       "    <tr>\n",
       "      <th>count</th>\n",
       "      <td>10140</td>\n",
       "      <td>10140</td>\n",
       "      <td>10140</td>\n",
       "      <td>10140</td>\n",
       "      <td>10140</td>\n",
       "      <td>10140</td>\n",
       "      <td>10140</td>\n",
       "      <td>10140</td>\n",
       "      <td>10140</td>\n",
       "      <td>10140</td>\n",
       "      <td>...</td>\n",
       "      <td>10140</td>\n",
       "      <td>10140</td>\n",
       "      <td>10140</td>\n",
       "      <td>10140</td>\n",
       "      <td>10140</td>\n",
       "      <td>10140</td>\n",
       "      <td>10140</td>\n",
       "      <td>10140</td>\n",
       "      <td>10140</td>\n",
       "      <td>10140</td>\n",
       "    </tr>\n",
       "    <tr>\n",
       "      <th>unique</th>\n",
       "      <td>2</td>\n",
       "      <td>6</td>\n",
       "      <td>4</td>\n",
       "      <td>10</td>\n",
       "      <td>2</td>\n",
       "      <td>9</td>\n",
       "      <td>2</td>\n",
       "      <td>2</td>\n",
       "      <td>2</td>\n",
       "      <td>12</td>\n",
       "      <td>...</td>\n",
       "      <td>4</td>\n",
       "      <td>9</td>\n",
       "      <td>9</td>\n",
       "      <td>1</td>\n",
       "      <td>4</td>\n",
       "      <td>3</td>\n",
       "      <td>5</td>\n",
       "      <td>9</td>\n",
       "      <td>6</td>\n",
       "      <td>7</td>\n",
       "    </tr>\n",
       "    <tr>\n",
       "      <th>top</th>\n",
       "      <td>e</td>\n",
       "      <td>x</td>\n",
       "      <td>y</td>\n",
       "      <td>n</td>\n",
       "      <td>f</td>\n",
       "      <td>n</td>\n",
       "      <td>f</td>\n",
       "      <td>c</td>\n",
       "      <td>b</td>\n",
       "      <td>b</td>\n",
       "      <td>...</td>\n",
       "      <td>s</td>\n",
       "      <td>w</td>\n",
       "      <td>w</td>\n",
       "      <td>p</td>\n",
       "      <td>w</td>\n",
       "      <td>o</td>\n",
       "      <td>p</td>\n",
       "      <td>w</td>\n",
       "      <td>v</td>\n",
       "      <td>d</td>\n",
       "    </tr>\n",
       "    <tr>\n",
       "      <th>freq</th>\n",
       "      <td>5222</td>\n",
       "      <td>4312</td>\n",
       "      <td>4157</td>\n",
       "      <td>2938</td>\n",
       "      <td>5952</td>\n",
       "      <td>3748</td>\n",
       "      <td>9910</td>\n",
       "      <td>8624</td>\n",
       "      <td>6458</td>\n",
       "      <td>2680</td>\n",
       "      <td>...</td>\n",
       "      <td>6216</td>\n",
       "      <td>5947</td>\n",
       "      <td>5877</td>\n",
       "      <td>10140</td>\n",
       "      <td>9930</td>\n",
       "      <td>9464</td>\n",
       "      <td>4888</td>\n",
       "      <td>3390</td>\n",
       "      <td>5144</td>\n",
       "      <td>3619</td>\n",
       "    </tr>\n",
       "  </tbody>\n",
       "</table>\n",
       "<p>4 rows × 23 columns</p>\n",
       "</div>"
      ],
      "text/plain": [
       "        class cap-shape cap-surface cap-color bruises   odor gill-attachment  \\\n",
       "count   10140     10140       10140     10140   10140  10140           10140   \n",
       "unique      2         6           4        10       2      9               2   \n",
       "top         e         x           y         n       f      n               f   \n",
       "freq     5222      4312        4157      2938    5952   3748            9910   \n",
       "\n",
       "       gill-spacing gill-size gill-color  ... stalk-surface-below-ring  \\\n",
       "count         10140     10140      10140  ...                    10140   \n",
       "unique            2         2         12  ...                        4   \n",
       "top               c         b          b  ...                        s   \n",
       "freq           8624      6458       2680  ...                     6216   \n",
       "\n",
       "       stalk-color-above-ring stalk-color-below-ring veil-type veil-color  \\\n",
       "count                   10140                  10140     10140      10140   \n",
       "unique                      9                      9         1          4   \n",
       "top                         w                      w         p          w   \n",
       "freq                     5947                   5877     10140       9930   \n",
       "\n",
       "       ring-number ring-type spore-print-color population habitat  \n",
       "count        10140     10140             10140      10140   10140  \n",
       "unique           3         5                 9          6       7  \n",
       "top              o         p                 w          v       d  \n",
       "freq          9464      4888              3390       5144    3619  \n",
       "\n",
       "[4 rows x 23 columns]"
      ]
     },
     "execution_count": 34,
     "metadata": {},
     "output_type": "execute_result"
    }
   ],
   "source": [
    "mush.describe()"
   ]
  },
  {
   "cell_type": "markdown",
   "id": "48d3cb5a-344a-42d4-b4da-cd445129594d",
   "metadata": {},
   "source": [
    "## <span style=\"color:#00FF8B; font-size: 28px;\"> Label encoding for all non numeric features </span>\n"
   ]
  },
  {
   "cell_type": "markdown",
   "id": "4d65b54d",
   "metadata": {},
   "source": [
    "We are going to encode all non-numerical features so they can be used in the model\n"
   ]
  },
  {
   "cell_type": "code",
   "execution_count": 35,
   "id": "6398d8db-0ad0-41a5-b3d8-2a3d779dd0a8",
   "metadata": {},
   "outputs": [
    {
     "data": {
      "text/html": [
       "<div>\n",
       "<style scoped>\n",
       "    .dataframe tbody tr th:only-of-type {\n",
       "        vertical-align: middle;\n",
       "    }\n",
       "\n",
       "    .dataframe tbody tr th {\n",
       "        vertical-align: top;\n",
       "    }\n",
       "\n",
       "    .dataframe thead th {\n",
       "        text-align: right;\n",
       "    }\n",
       "</style>\n",
       "<table border=\"1\" class=\"dataframe\">\n",
       "  <thead>\n",
       "    <tr style=\"text-align: right;\">\n",
       "      <th></th>\n",
       "      <th>class</th>\n",
       "      <th>cap-shape</th>\n",
       "      <th>cap-surface</th>\n",
       "      <th>cap-color</th>\n",
       "      <th>bruises</th>\n",
       "      <th>odor</th>\n",
       "      <th>gill-attachment</th>\n",
       "      <th>gill-spacing</th>\n",
       "      <th>gill-size</th>\n",
       "      <th>gill-color</th>\n",
       "      <th>...</th>\n",
       "      <th>stalk-surface-below-ring</th>\n",
       "      <th>stalk-color-above-ring</th>\n",
       "      <th>stalk-color-below-ring</th>\n",
       "      <th>veil-type</th>\n",
       "      <th>veil-color</th>\n",
       "      <th>ring-number</th>\n",
       "      <th>ring-type</th>\n",
       "      <th>spore-print-color</th>\n",
       "      <th>population</th>\n",
       "      <th>habitat</th>\n",
       "    </tr>\n",
       "  </thead>\n",
       "  <tbody>\n",
       "    <tr>\n",
       "      <th>0</th>\n",
       "      <td>0</td>\n",
       "      <td>5</td>\n",
       "      <td>2</td>\n",
       "      <td>9</td>\n",
       "      <td>1</td>\n",
       "      <td>0</td>\n",
       "      <td>1</td>\n",
       "      <td>0</td>\n",
       "      <td>0</td>\n",
       "      <td>4</td>\n",
       "      <td>...</td>\n",
       "      <td>2</td>\n",
       "      <td>7</td>\n",
       "      <td>7</td>\n",
       "      <td>0</td>\n",
       "      <td>2</td>\n",
       "      <td>1</td>\n",
       "      <td>4</td>\n",
       "      <td>3</td>\n",
       "      <td>2</td>\n",
       "      <td>1</td>\n",
       "    </tr>\n",
       "    <tr>\n",
       "      <th>1</th>\n",
       "      <td>0</td>\n",
       "      <td>0</td>\n",
       "      <td>2</td>\n",
       "      <td>8</td>\n",
       "      <td>1</td>\n",
       "      <td>3</td>\n",
       "      <td>1</td>\n",
       "      <td>0</td>\n",
       "      <td>0</td>\n",
       "      <td>5</td>\n",
       "      <td>...</td>\n",
       "      <td>2</td>\n",
       "      <td>7</td>\n",
       "      <td>7</td>\n",
       "      <td>0</td>\n",
       "      <td>2</td>\n",
       "      <td>1</td>\n",
       "      <td>4</td>\n",
       "      <td>3</td>\n",
       "      <td>2</td>\n",
       "      <td>3</td>\n",
       "    </tr>\n",
       "    <tr>\n",
       "      <th>2</th>\n",
       "      <td>0</td>\n",
       "      <td>5</td>\n",
       "      <td>2</td>\n",
       "      <td>3</td>\n",
       "      <td>0</td>\n",
       "      <td>5</td>\n",
       "      <td>1</td>\n",
       "      <td>1</td>\n",
       "      <td>0</td>\n",
       "      <td>4</td>\n",
       "      <td>...</td>\n",
       "      <td>2</td>\n",
       "      <td>7</td>\n",
       "      <td>7</td>\n",
       "      <td>0</td>\n",
       "      <td>2</td>\n",
       "      <td>1</td>\n",
       "      <td>0</td>\n",
       "      <td>3</td>\n",
       "      <td>0</td>\n",
       "      <td>1</td>\n",
       "    </tr>\n",
       "    <tr>\n",
       "      <th>3</th>\n",
       "      <td>0</td>\n",
       "      <td>5</td>\n",
       "      <td>3</td>\n",
       "      <td>9</td>\n",
       "      <td>1</td>\n",
       "      <td>0</td>\n",
       "      <td>1</td>\n",
       "      <td>0</td>\n",
       "      <td>0</td>\n",
       "      <td>5</td>\n",
       "      <td>...</td>\n",
       "      <td>2</td>\n",
       "      <td>7</td>\n",
       "      <td>7</td>\n",
       "      <td>0</td>\n",
       "      <td>2</td>\n",
       "      <td>1</td>\n",
       "      <td>4</td>\n",
       "      <td>2</td>\n",
       "      <td>2</td>\n",
       "      <td>1</td>\n",
       "    </tr>\n",
       "    <tr>\n",
       "      <th>4</th>\n",
       "      <td>0</td>\n",
       "      <td>0</td>\n",
       "      <td>2</td>\n",
       "      <td>8</td>\n",
       "      <td>1</td>\n",
       "      <td>0</td>\n",
       "      <td>1</td>\n",
       "      <td>0</td>\n",
       "      <td>0</td>\n",
       "      <td>2</td>\n",
       "      <td>...</td>\n",
       "      <td>2</td>\n",
       "      <td>7</td>\n",
       "      <td>7</td>\n",
       "      <td>0</td>\n",
       "      <td>2</td>\n",
       "      <td>1</td>\n",
       "      <td>4</td>\n",
       "      <td>2</td>\n",
       "      <td>2</td>\n",
       "      <td>3</td>\n",
       "    </tr>\n",
       "  </tbody>\n",
       "</table>\n",
       "<p>5 rows × 23 columns</p>\n",
       "</div>"
      ],
      "text/plain": [
       "   class  cap-shape  cap-surface  cap-color  bruises  odor  gill-attachment  \\\n",
       "0      0          5            2          9        1     0                1   \n",
       "1      0          0            2          8        1     3                1   \n",
       "2      0          5            2          3        0     5                1   \n",
       "3      0          5            3          9        1     0                1   \n",
       "4      0          0            2          8        1     0                1   \n",
       "\n",
       "   gill-spacing  gill-size  gill-color  ...  stalk-surface-below-ring  \\\n",
       "0             0          0           4  ...                         2   \n",
       "1             0          0           5  ...                         2   \n",
       "2             1          0           4  ...                         2   \n",
       "3             0          0           5  ...                         2   \n",
       "4             0          0           2  ...                         2   \n",
       "\n",
       "   stalk-color-above-ring  stalk-color-below-ring  veil-type  veil-color  \\\n",
       "0                       7                       7          0           2   \n",
       "1                       7                       7          0           2   \n",
       "2                       7                       7          0           2   \n",
       "3                       7                       7          0           2   \n",
       "4                       7                       7          0           2   \n",
       "\n",
       "   ring-number  ring-type  spore-print-color  population  habitat  \n",
       "0            1          4                  3           2        1  \n",
       "1            1          4                  3           2        3  \n",
       "2            1          0                  3           0        1  \n",
       "3            1          4                  2           2        1  \n",
       "4            1          4                  2           2        3  \n",
       "\n",
       "[5 rows x 23 columns]"
      ]
     },
     "execution_count": 35,
     "metadata": {},
     "output_type": "execute_result"
    }
   ],
   "source": [
    "mush_encoded = mush.copy()\n",
    "le = LabelEncoder()\n",
    "for col in mush_encoded.columns:\n",
    "    mush_encoded[col] = le.fit_transform(mush_encoded[col])\n",
    "\n",
    "mush_encoded.head(5)"
   ]
  },
  {
   "cell_type": "markdown",
   "id": "169f888f-fdf2-4687-bc19-357396e8565b",
   "metadata": {},
   "source": [
    "In this data set feature scaling will not be much of a requirement as the features already have a low variance\n"
   ]
  },
  {
   "cell_type": "code",
   "execution_count": 36,
   "id": "d10a4d5f-6910-404c-8904-4a132db8a46a",
   "metadata": {},
   "outputs": [
    {
     "data": {
      "text/plain": [
       "class                        1\n",
       "cap-shape                    5\n",
       "cap-surface                  3\n",
       "cap-color                    9\n",
       "bruises                      1\n",
       "odor                         8\n",
       "gill-attachment              1\n",
       "gill-spacing                 1\n",
       "gill-size                    1\n",
       "gill-color                  11\n",
       "stalk-shape                  1\n",
       "stalk-root                   4\n",
       "stalk-surface-above-ring     3\n",
       "stalk-surface-below-ring     3\n",
       "stalk-color-above-ring       8\n",
       "stalk-color-below-ring       8\n",
       "veil-type                    0\n",
       "veil-color                   3\n",
       "ring-number                  2\n",
       "ring-type                    4\n",
       "spore-print-color            8\n",
       "population                   5\n",
       "habitat                      6\n",
       "dtype: int32"
      ]
     },
     "execution_count": 36,
     "metadata": {},
     "output_type": "execute_result"
    }
   ],
   "source": [
    "mush_encoded.max()"
   ]
  },
  {
   "cell_type": "markdown",
   "id": "d93d2912",
   "metadata": {},
   "source": [
    "Some numeric statistics after the encoding\n"
   ]
  },
  {
   "cell_type": "code",
   "execution_count": 37,
   "id": "59f3855b-009b-4ded-beeb-711dc02de2b0",
   "metadata": {},
   "outputs": [
    {
     "data": {
      "text/html": [
       "<div>\n",
       "<style scoped>\n",
       "    .dataframe tbody tr th:only-of-type {\n",
       "        vertical-align: middle;\n",
       "    }\n",
       "\n",
       "    .dataframe tbody tr th {\n",
       "        vertical-align: top;\n",
       "    }\n",
       "\n",
       "    .dataframe thead th {\n",
       "        text-align: right;\n",
       "    }\n",
       "</style>\n",
       "<table border=\"1\" class=\"dataframe\">\n",
       "  <thead>\n",
       "    <tr style=\"text-align: right;\">\n",
       "      <th></th>\n",
       "      <th>class</th>\n",
       "      <th>cap-shape</th>\n",
       "      <th>cap-surface</th>\n",
       "      <th>cap-color</th>\n",
       "      <th>bruises</th>\n",
       "      <th>odor</th>\n",
       "      <th>gill-attachment</th>\n",
       "      <th>gill-spacing</th>\n",
       "      <th>gill-size</th>\n",
       "      <th>gill-color</th>\n",
       "      <th>...</th>\n",
       "      <th>stalk-surface-below-ring</th>\n",
       "      <th>stalk-color-above-ring</th>\n",
       "      <th>stalk-color-below-ring</th>\n",
       "      <th>veil-type</th>\n",
       "      <th>veil-color</th>\n",
       "      <th>ring-number</th>\n",
       "      <th>ring-type</th>\n",
       "      <th>spore-print-color</th>\n",
       "      <th>population</th>\n",
       "      <th>habitat</th>\n",
       "    </tr>\n",
       "  </thead>\n",
       "  <tbody>\n",
       "    <tr>\n",
       "      <th>count</th>\n",
       "      <td>10140.00000</td>\n",
       "      <td>10140.000000</td>\n",
       "      <td>10140.000000</td>\n",
       "      <td>10140.000000</td>\n",
       "      <td>10140.000000</td>\n",
       "      <td>10140.000000</td>\n",
       "      <td>10140.000000</td>\n",
       "      <td>10140.000000</td>\n",
       "      <td>10140.000000</td>\n",
       "      <td>10140.000000</td>\n",
       "      <td>...</td>\n",
       "      <td>10140.000000</td>\n",
       "      <td>10140.000000</td>\n",
       "      <td>10140.000000</td>\n",
       "      <td>10140.0</td>\n",
       "      <td>10140.000000</td>\n",
       "      <td>10140.000000</td>\n",
       "      <td>10140.000000</td>\n",
       "      <td>10140.000000</td>\n",
       "      <td>10140.000000</td>\n",
       "      <td>10140.000000</td>\n",
       "    </tr>\n",
       "    <tr>\n",
       "      <th>mean</th>\n",
       "      <td>0.48501</td>\n",
       "      <td>3.285404</td>\n",
       "      <td>1.908185</td>\n",
       "      <td>4.622091</td>\n",
       "      <td>0.413018</td>\n",
       "      <td>4.090335</td>\n",
       "      <td>0.977318</td>\n",
       "      <td>0.149507</td>\n",
       "      <td>0.363116</td>\n",
       "      <td>4.475049</td>\n",
       "      <td>...</td>\n",
       "      <td>1.649803</td>\n",
       "      <td>5.979586</td>\n",
       "      <td>5.964990</td>\n",
       "      <td>0.0</td>\n",
       "      <td>1.973373</td>\n",
       "      <td>1.051677</td>\n",
       "      <td>2.211045</td>\n",
       "      <td>3.842702</td>\n",
       "      <td>3.605621</td>\n",
       "      <td>1.611637</td>\n",
       "    </tr>\n",
       "    <tr>\n",
       "      <th>std</th>\n",
       "      <td>0.49980</td>\n",
       "      <td>1.622593</td>\n",
       "      <td>1.185253</td>\n",
       "      <td>2.599473</td>\n",
       "      <td>0.492400</td>\n",
       "      <td>2.274341</td>\n",
       "      <td>0.148896</td>\n",
       "      <td>0.356605</td>\n",
       "      <td>0.480922</td>\n",
       "      <td>3.620997</td>\n",
       "      <td>...</td>\n",
       "      <td>0.672502</td>\n",
       "      <td>1.782778</td>\n",
       "      <td>1.787966</td>\n",
       "      <td>0.0</td>\n",
       "      <td>0.220019</td>\n",
       "      <td>0.252987</td>\n",
       "      <td>1.846041</td>\n",
       "      <td>2.404957</td>\n",
       "      <td>1.216397</td>\n",
       "      <td>1.710438</td>\n",
       "    </tr>\n",
       "    <tr>\n",
       "      <th>min</th>\n",
       "      <td>0.00000</td>\n",
       "      <td>0.000000</td>\n",
       "      <td>0.000000</td>\n",
       "      <td>0.000000</td>\n",
       "      <td>0.000000</td>\n",
       "      <td>0.000000</td>\n",
       "      <td>0.000000</td>\n",
       "      <td>0.000000</td>\n",
       "      <td>0.000000</td>\n",
       "      <td>0.000000</td>\n",
       "      <td>...</td>\n",
       "      <td>0.000000</td>\n",
       "      <td>0.000000</td>\n",
       "      <td>0.000000</td>\n",
       "      <td>0.0</td>\n",
       "      <td>0.000000</td>\n",
       "      <td>0.000000</td>\n",
       "      <td>0.000000</td>\n",
       "      <td>0.000000</td>\n",
       "      <td>0.000000</td>\n",
       "      <td>0.000000</td>\n",
       "    </tr>\n",
       "    <tr>\n",
       "      <th>25%</th>\n",
       "      <td>0.00000</td>\n",
       "      <td>2.000000</td>\n",
       "      <td>0.000000</td>\n",
       "      <td>3.000000</td>\n",
       "      <td>0.000000</td>\n",
       "      <td>2.000000</td>\n",
       "      <td>1.000000</td>\n",
       "      <td>0.000000</td>\n",
       "      <td>0.000000</td>\n",
       "      <td>0.000000</td>\n",
       "      <td>...</td>\n",
       "      <td>1.000000</td>\n",
       "      <td>6.000000</td>\n",
       "      <td>6.000000</td>\n",
       "      <td>0.0</td>\n",
       "      <td>2.000000</td>\n",
       "      <td>1.000000</td>\n",
       "      <td>0.000000</td>\n",
       "      <td>2.000000</td>\n",
       "      <td>3.000000</td>\n",
       "      <td>0.000000</td>\n",
       "    </tr>\n",
       "    <tr>\n",
       "      <th>50%</th>\n",
       "      <td>0.00000</td>\n",
       "      <td>3.000000</td>\n",
       "      <td>2.000000</td>\n",
       "      <td>4.000000</td>\n",
       "      <td>0.000000</td>\n",
       "      <td>5.000000</td>\n",
       "      <td>1.000000</td>\n",
       "      <td>0.000000</td>\n",
       "      <td>0.000000</td>\n",
       "      <td>5.000000</td>\n",
       "      <td>...</td>\n",
       "      <td>2.000000</td>\n",
       "      <td>7.000000</td>\n",
       "      <td>7.000000</td>\n",
       "      <td>0.0</td>\n",
       "      <td>2.000000</td>\n",
       "      <td>1.000000</td>\n",
       "      <td>2.000000</td>\n",
       "      <td>3.000000</td>\n",
       "      <td>4.000000</td>\n",
       "      <td>1.000000</td>\n",
       "    </tr>\n",
       "    <tr>\n",
       "      <th>75%</th>\n",
       "      <td>1.00000</td>\n",
       "      <td>5.000000</td>\n",
       "      <td>3.000000</td>\n",
       "      <td>8.000000</td>\n",
       "      <td>1.000000</td>\n",
       "      <td>5.000000</td>\n",
       "      <td>1.000000</td>\n",
       "      <td>0.000000</td>\n",
       "      <td>1.000000</td>\n",
       "      <td>7.000000</td>\n",
       "      <td>...</td>\n",
       "      <td>2.000000</td>\n",
       "      <td>7.000000</td>\n",
       "      <td>7.000000</td>\n",
       "      <td>0.0</td>\n",
       "      <td>2.000000</td>\n",
       "      <td>1.000000</td>\n",
       "      <td>4.000000</td>\n",
       "      <td>7.000000</td>\n",
       "      <td>4.000000</td>\n",
       "      <td>3.000000</td>\n",
       "    </tr>\n",
       "    <tr>\n",
       "      <th>max</th>\n",
       "      <td>1.00000</td>\n",
       "      <td>5.000000</td>\n",
       "      <td>3.000000</td>\n",
       "      <td>9.000000</td>\n",
       "      <td>1.000000</td>\n",
       "      <td>8.000000</td>\n",
       "      <td>1.000000</td>\n",
       "      <td>1.000000</td>\n",
       "      <td>1.000000</td>\n",
       "      <td>11.000000</td>\n",
       "      <td>...</td>\n",
       "      <td>3.000000</td>\n",
       "      <td>8.000000</td>\n",
       "      <td>8.000000</td>\n",
       "      <td>0.0</td>\n",
       "      <td>3.000000</td>\n",
       "      <td>2.000000</td>\n",
       "      <td>4.000000</td>\n",
       "      <td>8.000000</td>\n",
       "      <td>5.000000</td>\n",
       "      <td>6.000000</td>\n",
       "    </tr>\n",
       "  </tbody>\n",
       "</table>\n",
       "<p>8 rows × 23 columns</p>\n",
       "</div>"
      ],
      "text/plain": [
       "             class     cap-shape   cap-surface     cap-color       bruises  \\\n",
       "count  10140.00000  10140.000000  10140.000000  10140.000000  10140.000000   \n",
       "mean       0.48501      3.285404      1.908185      4.622091      0.413018   \n",
       "std        0.49980      1.622593      1.185253      2.599473      0.492400   \n",
       "min        0.00000      0.000000      0.000000      0.000000      0.000000   \n",
       "25%        0.00000      2.000000      0.000000      3.000000      0.000000   \n",
       "50%        0.00000      3.000000      2.000000      4.000000      0.000000   \n",
       "75%        1.00000      5.000000      3.000000      8.000000      1.000000   \n",
       "max        1.00000      5.000000      3.000000      9.000000      1.000000   \n",
       "\n",
       "               odor  gill-attachment  gill-spacing     gill-size  \\\n",
       "count  10140.000000     10140.000000  10140.000000  10140.000000   \n",
       "mean       4.090335         0.977318      0.149507      0.363116   \n",
       "std        2.274341         0.148896      0.356605      0.480922   \n",
       "min        0.000000         0.000000      0.000000      0.000000   \n",
       "25%        2.000000         1.000000      0.000000      0.000000   \n",
       "50%        5.000000         1.000000      0.000000      0.000000   \n",
       "75%        5.000000         1.000000      0.000000      1.000000   \n",
       "max        8.000000         1.000000      1.000000      1.000000   \n",
       "\n",
       "         gill-color  ...  stalk-surface-below-ring  stalk-color-above-ring  \\\n",
       "count  10140.000000  ...              10140.000000            10140.000000   \n",
       "mean       4.475049  ...                  1.649803                5.979586   \n",
       "std        3.620997  ...                  0.672502                1.782778   \n",
       "min        0.000000  ...                  0.000000                0.000000   \n",
       "25%        0.000000  ...                  1.000000                6.000000   \n",
       "50%        5.000000  ...                  2.000000                7.000000   \n",
       "75%        7.000000  ...                  2.000000                7.000000   \n",
       "max       11.000000  ...                  3.000000                8.000000   \n",
       "\n",
       "       stalk-color-below-ring  veil-type    veil-color   ring-number  \\\n",
       "count            10140.000000    10140.0  10140.000000  10140.000000   \n",
       "mean                 5.964990        0.0      1.973373      1.051677   \n",
       "std                  1.787966        0.0      0.220019      0.252987   \n",
       "min                  0.000000        0.0      0.000000      0.000000   \n",
       "25%                  6.000000        0.0      2.000000      1.000000   \n",
       "50%                  7.000000        0.0      2.000000      1.000000   \n",
       "75%                  7.000000        0.0      2.000000      1.000000   \n",
       "max                  8.000000        0.0      3.000000      2.000000   \n",
       "\n",
       "          ring-type  spore-print-color    population       habitat  \n",
       "count  10140.000000       10140.000000  10140.000000  10140.000000  \n",
       "mean       2.211045           3.842702      3.605621      1.611637  \n",
       "std        1.846041           2.404957      1.216397      1.710438  \n",
       "min        0.000000           0.000000      0.000000      0.000000  \n",
       "25%        0.000000           2.000000      3.000000      0.000000  \n",
       "50%        2.000000           3.000000      4.000000      1.000000  \n",
       "75%        4.000000           7.000000      4.000000      3.000000  \n",
       "max        4.000000           8.000000      5.000000      6.000000  \n",
       "\n",
       "[8 rows x 23 columns]"
      ]
     },
     "execution_count": 37,
     "metadata": {},
     "output_type": "execute_result"
    }
   ],
   "source": [
    "mush_encoded.describe()"
   ]
  },
  {
   "cell_type": "markdown",
   "id": "935198ae",
   "metadata": {},
   "source": [
    "Columns that were encoded\n"
   ]
  },
  {
   "cell_type": "code",
   "execution_count": 38,
   "id": "0ad86383-c535-4e7d-8091-314a362344b1",
   "metadata": {},
   "outputs": [
    {
     "data": {
      "text/plain": [
       "Index(['class', 'cap-shape', 'cap-surface', 'cap-color', 'bruises', 'odor',\n",
       "       'gill-attachment', 'gill-spacing', 'gill-size', 'gill-color',\n",
       "       'stalk-shape', 'stalk-root', 'stalk-surface-above-ring',\n",
       "       'stalk-surface-below-ring', 'stalk-color-above-ring',\n",
       "       'stalk-color-below-ring', 'veil-type', 'veil-color', 'ring-number',\n",
       "       'ring-type', 'spore-print-color', 'population', 'habitat'],\n",
       "      dtype='object')"
      ]
     },
     "execution_count": 38,
     "metadata": {},
     "output_type": "execute_result"
    }
   ],
   "source": [
    "mush_encoded.columns"
   ]
  },
  {
   "cell_type": "markdown",
   "id": "12b8d1ac",
   "metadata": {},
   "source": [
    "All the columns were encoded because they all were of type object (string)\n"
   ]
  },
  {
   "cell_type": "markdown",
   "id": "5ec3f773-0b08-4d0c-8c57-61acc326ea9e",
   "metadata": {},
   "source": [
    "## <span style=\"color:#00FF8B; font-size: 28px;\"> Visualizations -- Insights </span>\n"
   ]
  },
  {
   "cell_type": "markdown",
   "id": "db0c6b1d",
   "metadata": {},
   "source": [
    "### <span style=\"color:#FFE527; font-size: 20px;\">Configuring pylab settings</span>\n"
   ]
  },
  {
   "cell_type": "code",
   "execution_count": 39,
   "id": "288923ae-168b-4424-b71c-b4f1ed048239",
   "metadata": {},
   "outputs": [],
   "source": [
    "params = {\n",
    "    \"legend.fontsize\": \"x-large\",\n",
    "    \"axes.labelsize\": \"x-large\",\n",
    "    \"axes.titlesize\": \"x-large\",\n",
    "    \"xtick.labelsize\": \"x-large\",\n",
    "    \"ytick.labelsize\": \"x-large\",\n",
    "}\n",
    "pylab.rcParams.update(params)"
   ]
  },
  {
   "cell_type": "markdown",
   "id": "58c4ca61",
   "metadata": {},
   "source": [
    "### <span style=\"color:#FFE527; font-size: 20px;\"> Count of poisonous vs edible - Insight 1 </span>\n"
   ]
  },
  {
   "cell_type": "code",
   "execution_count": 40,
   "id": "b2a974e0-bb9f-428e-a6c5-40bb05b2648b",
   "metadata": {},
   "outputs": [
    {
     "name": "stderr",
     "output_type": "stream",
     "text": [
      "C:\\Users\\bokyb\\AppData\\Local\\Temp\\ipykernel_17300\\4182560556.py:3: FutureWarning:\n",
      "\n",
      "\n",
      "\n",
      "Passing `palette` without assigning `hue` is deprecated and will be removed in v0.14.0. Assign the `x` variable to `hue` and set `legend=False` for the same effect.\n",
      "\n",
      "\n"
     ]
    },
    {
     "data": {
      "image/png": "[encoded data removed]",
      "text/plain": [
       "<Figure size 1500x700 with 1 Axes>"
      ]
     },
     "metadata": {},
     "output_type": "display_data"
    }
   ],
   "source": [
    "def plot_col(col, hue=None, labels=(\"Poisonous\", \"Edible\"), data=None):\n",
    "    fig, ax = plt.subplots(figsize=(15, 7))\n",
    "    sns.countplot(\n",
    "        x=col,\n",
    "        hue=hue,\n",
    "        palette=[\"blue\", \"purple\"],\n",
    "        saturation=0.6,\n",
    "        dodge=True,\n",
    "        data=data,\n",
    "        ax=ax,\n",
    "        legend=False,\n",
    "    )\n",
    "\n",
    "    ax.set(\n",
    "        title=f\"Mushroom {col.capitalize()} Quantity\",\n",
    "        xlabel=f\"{col.capitalize()}\",\n",
    "        ylabel=\"Quantity\",\n",
    "    )\n",
    "    if labels is not None:\n",
    "        ax.set_xticks(range(len(labels)))\n",
    "        ax.set_xticklabels(labels)\n",
    "    if hue is not None:\n",
    "        ax.legend(labels, loc=0)\n",
    "\n",
    "\n",
    "# Example usage\n",
    "plot_col(col=\"class\", labels=(\"Poisonous\", \"Edible\"), data=mush_encoded)\n",
    "\n",
    "# Display the plot\n",
    "plt.show()"
   ]
  },
  {
   "cell_type": "markdown",
   "id": "c41e03de",
   "metadata": {},
   "source": [
    "There are more poisonous mushrooms in the dataset than the edible ones\n"
   ]
  },
  {
   "cell_type": "code",
   "execution_count": 41,
   "id": "bf8271da",
   "metadata": {},
   "outputs": [
    {
     "data": {
      "application/vnd.plotly.v1+json": {
       "config": {
        "plotlyServerURL": "https://plot.ly"
       },
       "data": [
        {
         "hoverinfo": "label+percent",
         "labels": [
          "Poison",
          "Edible"
         ],
         "marker": {
          "colors": [
           "CAF4FF",
           "A0DEFF"
          ],
          "line": {
           "color": "#FFFFFF",
           "width": 3
          }
         },
         "textfont": {
          "size": 20
         },
         "textinfo": "value",
         "type": "pie",
         "values": [
          5222,
          4918
         ]
        }
       ],
       "layout": {
        "template": {
         "data": {
          "bar": [
           {
            "error_x": {
             "color": "#2a3f5f"
            },
            "error_y": {
             "color": "#2a3f5f"
            },
            "marker": {
             "line": {
              "color": "#E5ECF6",
              "width": 0.5
             },
             "pattern": {
              "fillmode": "overlay",
              "size": 10,
              "solidity": 0.2
             }
            },
            "type": "bar"
           }
          ],
          "barpolar": [
           {
            "marker": {
             "line": {
              "color": "#E5ECF6",
              "width": 0.5
             },
             "pattern": {
              "fillmode": "overlay",
              "size": 10,
              "solidity": 0.2
             }
            },
            "type": "barpolar"
           }
          ],
          "carpet": [
           {
            "aaxis": {
             "endlinecolor": "#2a3f5f",
             "gridcolor": "white",
             "linecolor": "white",
             "minorgridcolor": "white",
             "startlinecolor": "#2a3f5f"
            },
            "baxis": {
             "endlinecolor": "#2a3f5f",
             "gridcolor": "white",
             "linecolor": "white",
             "minorgridcolor": "white",
             "startlinecolor": "#2a3f5f"
            },
            "type": "carpet"
           }
          ],
          "choropleth": [
           {
            "colorbar": {
             "outlinewidth": 0,
             "ticks": ""
            },
            "type": "choropleth"
           }
          ],
          "contour": [
           {
            "colorbar": {
             "outlinewidth": 0,
             "ticks": ""
            },
            "colorscale": [
             [
              0,
              "#0d0887"
             ],
             [
              0.1111111111111111,
              "#46039f"
             ],
             [
              0.2222222222222222,
              "#7201a8"
             ],
             [
              0.3333333333333333,
              "#9c179e"
             ],
             [
              0.4444444444444444,
              "#bd3786"
             ],
             [
              0.5555555555555556,
              "#d8576b"
             ],
             [
              0.6666666666666666,
              "#ed7953"
             ],
             [
              0.7777777777777778,
              "#fb9f3a"
             ],
             [
              0.8888888888888888,
              "#fdca26"
             ],
             [
              1,
              "#f0f921"
             ]
            ],
            "type": "contour"
           }
          ],
          "contourcarpet": [
           {
            "colorbar": {
             "outlinewidth": 0,
             "ticks": ""
            },
            "type": "contourcarpet"
           }
          ],
          "heatmap": [
           {
            "colorbar": {
             "outlinewidth": 0,
             "ticks": ""
            },
            "colorscale": [
             [
              0,
              "#0d0887"
             ],
             [
              0.1111111111111111,
              "#46039f"
             ],
             [
              0.2222222222222222,
              "#7201a8"
             ],
             [
              0.3333333333333333,
              "#9c179e"
             ],
             [
              0.4444444444444444,
              "#bd3786"
             ],
             [
              0.5555555555555556,
              "#d8576b"
             ],
             [
              0.6666666666666666,
              "#ed7953"
             ],
             [
              0.7777777777777778,
              "#fb9f3a"
             ],
             [
              0.8888888888888888,
              "#fdca26"
             ],
             [
              1,
              "#f0f921"
             ]
            ],
            "type": "heatmap"
           }
          ],
          "heatmapgl": [
           {
            "colorbar": {
             "outlinewidth": 0,
             "ticks": ""
            },
            "colorscale": [
             [
              0,
              "#0d0887"
             ],
             [
              0.1111111111111111,
              "#46039f"
             ],
             [
              0.2222222222222222,
              "#7201a8"
             ],
             [
              0.3333333333333333,
              "#9c179e"
             ],
             [
              0.4444444444444444,
              "#bd3786"
             ],
             [
              0.5555555555555556,
              "#d8576b"
             ],
             [
              0.6666666666666666,
              "#ed7953"
             ],
             [
              0.7777777777777778,
              "#fb9f3a"
             ],
             [
              0.8888888888888888,
              "#fdca26"
             ],
             [
              1,
              "#f0f921"
             ]
            ],
            "type": "heatmapgl"
           }
          ],
          "histogram": [
           {
            "marker": {
             "pattern": {
              "fillmode": "overlay",
              "size": 10,
              "solidity": 0.2
             }
            },
            "type": "histogram"
           }
          ],
          "histogram2d": [
           {
            "colorbar": {
             "outlinewidth": 0,
             "ticks": ""
            },
            "colorscale": [
             [
              0,
              "#0d0887"
             ],
             [
              0.1111111111111111,
              "#46039f"
             ],
             [
              0.2222222222222222,
              "#7201a8"
             ],
             [
              0.3333333333333333,
              "#9c179e"
             ],
             [
              0.4444444444444444,
              "#bd3786"
             ],
             [
              0.5555555555555556,
              "#d8576b"
             ],
             [
              0.6666666666666666,
              "#ed7953"
             ],
             [
              0.7777777777777778,
              "#fb9f3a"
             ],
             [
              0.8888888888888888,
              "#fdca26"
             ],
             [
              1,
              "#f0f921"
             ]
            ],
            "type": "histogram2d"
           }
          ],
          "histogram2dcontour": [
           {
            "colorbar": {
             "outlinewidth": 0,
             "ticks": ""
            },
            "colorscale": [
             [
              0,
              "#0d0887"
             ],
             [
              0.1111111111111111,
              "#46039f"
             ],
             [
              0.2222222222222222,
              "#7201a8"
             ],
             [
              0.3333333333333333,
              "#9c179e"
             ],
             [
              0.4444444444444444,
              "#bd3786"
             ],
             [
              0.5555555555555556,
              "#d8576b"
             ],
             [
              0.6666666666666666,
              "#ed7953"
             ],
             [
              0.7777777777777778,
              "#fb9f3a"
             ],
             [
              0.8888888888888888,
              "#fdca26"
             ],
             [
              1,
              "#f0f921"
             ]
            ],
            "type": "histogram2dcontour"
           }
          ],
          "mesh3d": [
           {
            "colorbar": {
             "outlinewidth": 0,
             "ticks": ""
            },
            "type": "mesh3d"
           }
          ],
          "parcoords": [
           {
            "line": {
             "colorbar": {
              "outlinewidth": 0,
              "ticks": ""
             }
            },
            "type": "parcoords"
           }
          ],
          "pie": [
           {
            "automargin": true,
            "type": "pie"
           }
          ],
          "scatter": [
           {
            "fillpattern": {
             "fillmode": "overlay",
             "size": 10,
             "solidity": 0.2
            },
            "type": "scatter"
           }
          ],
          "scatter3d": [
           {
            "line": {
             "colorbar": {
              "outlinewidth": 0,
              "ticks": ""
             }
            },
            "marker": {
             "colorbar": {
              "outlinewidth": 0,
              "ticks": ""
             }
            },
            "type": "scatter3d"
           }
          ],
          "scattercarpet": [
           {
            "marker": {
             "colorbar": {
              "outlinewidth": 0,
              "ticks": ""
             }
            },
            "type": "scattercarpet"
           }
          ],
          "scattergeo": [
           {
            "marker": {
             "colorbar": {
              "outlinewidth": 0,
              "ticks": ""
             }
            },
            "type": "scattergeo"
           }
          ],
          "scattergl": [
           {
            "marker": {
             "colorbar": {
              "outlinewidth": 0,
              "ticks": ""
             }
            },
            "type": "scattergl"
           }
          ],
          "scattermapbox": [
           {
            "marker": {
             "colorbar": {
              "outlinewidth": 0,
              "ticks": ""
             }
            },
            "type": "scattermapbox"
           }
          ],
          "scatterpolar": [
           {
            "marker": {
             "colorbar": {
              "outlinewidth": 0,
              "ticks": ""
             }
            },
            "type": "scatterpolar"
           }
          ],
          "scatterpolargl": [
           {
            "marker": {
             "colorbar": {
              "outlinewidth": 0,
              "ticks": ""
             }
            },
            "type": "scatterpolargl"
           }
          ],
          "scatterternary": [
           {
            "marker": {
             "colorbar": {
              "outlinewidth": 0,
              "ticks": ""
             }
            },
            "type": "scatterternary"
           }
          ],
          "surface": [
           {
            "colorbar": {
             "outlinewidth": 0,
             "ticks": ""
            },
            "colorscale": [
             [
              0,
              "#0d0887"
             ],
             [
              0.1111111111111111,
              "#46039f"
             ],
             [
              0.2222222222222222,
              "#7201a8"
             ],
             [
              0.3333333333333333,
              "#9c179e"
             ],
             [
              0.4444444444444444,
              "#bd3786"
             ],
             [
              0.5555555555555556,
              "#d8576b"
             ],
             [
              0.6666666666666666,
              "#ed7953"
             ],
             [
              0.7777777777777778,
              "#fb9f3a"
             ],
             [
              0.8888888888888888,
              "#fdca26"
             ],
             [
              1,
              "#f0f921"
             ]
            ],
            "type": "surface"
           }
          ],
          "table": [
           {
            "cells": {
             "fill": {
              "color": "#EBF0F8"
             },
             "line": {
              "color": "white"
             }
            },
            "header": {
             "fill": {
              "color": "#C8D4E3"
             },
             "line": {
              "color": "white"
             }
            },
            "type": "table"
           }
          ]
         },
         "layout": {
          "annotationdefaults": {
           "arrowcolor": "#2a3f5f",
           "arrowhead": 0,
           "arrowwidth": 1
          },
          "autotypenumbers": "strict",
          "coloraxis": {
           "colorbar": {
            "outlinewidth": 0,
            "ticks": ""
           }
          },
          "colorscale": {
           "diverging": [
            [
             0,
             "#8e0152"
            ],
            [
             0.1,
             "#c51b7d"
            ],
            [
             0.2,
             "#de77ae"
            ],
            [
             0.3,
             "#f1b6da"
            ],
            [
             0.4,
             "#fde0ef"
            ],
            [
             0.5,
             "#f7f7f7"
            ],
            [
             0.6,
             "#e6f5d0"
            ],
            [
             0.7,
             "#b8e186"
            ],
            [
             0.8,
             "#7fbc41"
            ],
            [
             0.9,
             "#4d9221"
            ],
            [
             1,
             "#276419"
            ]
           ],
           "sequential": [
            [
             0,
             "#0d0887"
            ],
            [
             0.1111111111111111,
             "#46039f"
            ],
            [
             0.2222222222222222,
             "#7201a8"
            ],
            [
             0.3333333333333333,
             "#9c179e"
            ],
            [
             0.4444444444444444,
             "#bd3786"
            ],
            [
             0.5555555555555556,
             "#d8576b"
            ],
            [
             0.6666666666666666,
             "#ed7953"
            ],
            [
             0.7777777777777778,
             "#fb9f3a"
            ],
            [
             0.8888888888888888,
             "#fdca26"
            ],
            [
             1,
             "#f0f921"
            ]
           ],
           "sequentialminus": [
            [
             0,
             "#0d0887"
            ],
            [
             0.1111111111111111,
             "#46039f"
            ],
            [
             0.2222222222222222,
             "#7201a8"
            ],
            [
             0.3333333333333333,
             "#9c179e"
            ],
            [
             0.4444444444444444,
             "#bd3786"
            ],
            [
             0.5555555555555556,
             "#d8576b"
            ],
            [
             0.6666666666666666,
             "#ed7953"
            ],
            [
             0.7777777777777778,
             "#fb9f3a"
            ],
            [
             0.8888888888888888,
             "#fdca26"
            ],
            [
             1,
             "#f0f921"
            ]
           ]
          },
          "colorway": [
           "#636efa",
           "#EF553B",
           "#00cc96",
           "#ab63fa",
           "#FFA15A",
           "#19d3f3",
           "#FF6692",
           "#B6E880",
           "#FF97FF",
           "#FECB52"
          ],
          "font": {
           "color": "#2a3f5f"
          },
          "geo": {
           "bgcolor": "white",
           "lakecolor": "white",
           "landcolor": "#E5ECF6",
           "showlakes": true,
           "showland": true,
           "subunitcolor": "white"
          },
          "hoverlabel": {
           "align": "left"
          },
          "hovermode": "closest",
          "mapbox": {
           "style": "light"
          },
          "paper_bgcolor": "white",
          "plot_bgcolor": "#E5ECF6",
          "polar": {
           "angularaxis": {
            "gridcolor": "white",
            "linecolor": "white",
            "ticks": ""
           },
           "bgcolor": "#E5ECF6",
           "radialaxis": {
            "gridcolor": "white",
            "linecolor": "white",
            "ticks": ""
           }
          },
          "scene": {
           "xaxis": {
            "backgroundcolor": "#E5ECF6",
            "gridcolor": "white",
            "gridwidth": 2,
            "linecolor": "white",
            "showbackground": true,
            "ticks": "",
            "zerolinecolor": "white"
           },
           "yaxis": {
            "backgroundcolor": "#E5ECF6",
            "gridcolor": "white",
            "gridwidth": 2,
            "linecolor": "white",
            "showbackground": true,
            "ticks": "",
            "zerolinecolor": "white"
           },
           "zaxis": {
            "backgroundcolor": "#E5ECF6",
            "gridcolor": "white",
            "gridwidth": 2,
            "linecolor": "white",
            "showbackground": true,
            "ticks": "",
            "zerolinecolor": "white"
           }
          },
          "shapedefaults": {
           "line": {
            "color": "#2a3f5f"
           }
          },
          "ternary": {
           "aaxis": {
            "gridcolor": "white",
            "linecolor": "white",
            "ticks": ""
           },
           "baxis": {
            "gridcolor": "white",
            "linecolor": "white",
            "ticks": ""
           },
           "bgcolor": "#E5ECF6",
           "caxis": {
            "gridcolor": "white",
            "linecolor": "white",
            "ticks": ""
           }
          },
          "title": {
           "x": 0.05
          },
          "xaxis": {
           "automargin": true,
           "gridcolor": "white",
           "linecolor": "white",
           "ticks": "",
           "title": {
            "standoff": 15
           },
           "zerolinecolor": "white",
           "zerolinewidth": 2
          },
          "yaxis": {
           "automargin": true,
           "gridcolor": "white",
           "linecolor": "white",
           "ticks": "",
           "title": {
            "standoff": 15
           },
           "zerolinecolor": "white",
           "zerolinewidth": 2
          }
         }
        }
       }
      }
     },
     "metadata": {},
     "output_type": "display_data"
    }
   ],
   "source": [
    "labels = [\"Poison\", \"Edible\"]\n",
    "values = mush_encoded[\"class\"].value_counts()\n",
    "\n",
    "fig = go.Figure(data=[go.Pie(labels=labels, values=values)])\n",
    "fig.update_traces(\n",
    "    hoverinfo=\"label+percent\",\n",
    "    textinfo=\"value\",\n",
    "    textfont_size=20,\n",
    "    marker=dict(colors=[\"CAF4FF\", \"A0DEFF\"], line=dict(color=\"#FFFFFF\", width=3)),\n",
    ")\n",
    "fig.show()"
   ]
  },
  {
   "cell_type": "markdown",
   "id": "307f7a3d",
   "metadata": {},
   "source": [
    "There is nearly a 50% chance of picking either class\n"
   ]
  },
  {
   "cell_type": "markdown",
   "id": "7f91fe3b",
   "metadata": {},
   "source": [
    "### <span style=\"color:#FFE527; font-size: 20px;\"> Distribution of cap color - Insight 2 </span>\n"
   ]
  },
  {
   "cell_type": "code",
   "execution_count": 42,
   "id": "9e9f7a00-9eab-456d-840b-b873456db1e0",
   "metadata": {},
   "outputs": [
    {
     "name": "stderr",
     "output_type": "stream",
     "text": [
      "C:\\Users\\bokyb\\AppData\\Local\\Temp\\ipykernel_17300\\2296874429.py:16: FutureWarning:\n",
      "\n",
      "\n",
      "\n",
      "Passing `palette` without assigning `hue` is deprecated and will be removed in v0.14.0. Assign the `x` variable to `hue` and set `legend=False` for the same effect.\n",
      "\n",
      "\n",
      "C:\\Users\\bokyb\\AppData\\Local\\Temp\\ipykernel_17300\\2296874429.py:33: UserWarning:\n",
      "\n",
      "set_ticklabels() should only be used with a fixed number of ticks, i.e. after set_ticks() or using a FixedLocator.\n",
      "\n"
     ]
    },
    {
     "data": {
      "image/png": "[encoded data removed]",
      "text/plain": [
       "<Figure size 1500x700 with 1 Axes>"
      ]
     },
     "metadata": {},
     "output_type": "display_data"
    }
   ],
   "source": [
    "def plot_col(col, hue=None, labels=None, data=None):\n",
    "    color_palette = [\n",
    "        \"purple\",\n",
    "        \"yellow\",\n",
    "        \"blue\",\n",
    "        \"violet\",\n",
    "        \"red\",\n",
    "        \"pink\",\n",
    "        \"orange\",\n",
    "        \"purple\",\n",
    "        \"black\",\n",
    "        \"green\",\n",
    "    ]\n",
    "\n",
    "    fig, ax = plt.subplots(figsize=(15, 7))\n",
    "    sns.countplot(\n",
    "        x=col,\n",
    "        hue=hue,\n",
    "        palette=color_palette,\n",
    "        saturation=0.6,\n",
    "        dodge=True,\n",
    "        data=data,\n",
    "        ax=ax,\n",
    "    )\n",
    "\n",
    "    ax.set(\n",
    "        title=f\"Mushroom {col.capitalize()} Quantity\",\n",
    "        xlabel=f\"{col.capitalize()}\",\n",
    "        ylabel=\"Quantity\",\n",
    "    )\n",
    "\n",
    "    if labels is not None:\n",
    "        ax.set_xticklabels(labels)\n",
    "\n",
    "    if hue is not None:\n",
    "        ax.legend(labels=color_palette, loc=0)\n",
    "\n",
    "\n",
    "# Example usage\n",
    "color_dict = [\n",
    "    \"purple\",\n",
    "    \"yellow\",\n",
    "    \"blue\",\n",
    "    \"violet\",\n",
    "    \"red\",\n",
    "    \"pink\",\n",
    "    \"orange\",\n",
    "    \"purple\",\n",
    "    \"black\",\n",
    "    \"green\",\n",
    "]\n",
    "plot_col(col=\"cap-color\", labels=color_dict, data=mush_encoded)\n",
    "\n",
    "# Display the plot\n",
    "plt.show()"
   ]
  },
  {
   "cell_type": "markdown",
   "id": "ec9f3edb-77a8-4b6f-8f28-90b39211bb5a",
   "metadata": {},
   "source": [
    "Red (4), Violet (3) and Blue (2) Mushrooms are more in quantity than other colors of mushrooms and are above 1000 in quantity\n"
   ]
  },
  {
   "cell_type": "markdown",
   "id": "d0fdadb7",
   "metadata": {},
   "source": [
    "### <span style=\"color:#FFE527; font-size: 20px;\"> Distribution of cap surface types - Insight 3 </span>\n"
   ]
  },
  {
   "cell_type": "code",
   "execution_count": 43,
   "id": "412692fb-7bad-41b1-9f9b-29c700500c44",
   "metadata": {},
   "outputs": [
    {
     "name": "stderr",
     "output_type": "stream",
     "text": [
      "C:\\Users\\bokyb\\AppData\\Local\\Temp\\ipykernel_17300\\1072070817.py:14: UserWarning:\n",
      "\n",
      "set_ticklabels() should only be used with a fixed number of ticks, i.e. after set_ticks() or using a FixedLocator.\n",
      "\n"
     ]
    },
    {
     "data": {
      "image/png": "[encoded data removed]",
      "text/plain": [
       "<Figure size 1500x700 with 1 Axes>"
      ]
     },
     "metadata": {},
     "output_type": "display_data"
    }
   ],
   "source": [
    "def plot_col(col, hue=None, color=[\"blue\", \"purple\"], labels=None, data=None):\n",
    "    fig, ax = plt.subplots(figsize=(15, 7))\n",
    "    sns.countplot(\n",
    "        x=col, hue=hue, palette=color, saturation=0.6, dodge=True, data=data, ax=ax\n",
    "    )\n",
    "\n",
    "    ax.set(\n",
    "        title=f\"Mushroom {col.capitalize()} Quantity\",\n",
    "        xlabel=f\"{col.capitalize()}\",\n",
    "        ylabel=\"Quantity\",\n",
    "    )\n",
    "\n",
    "    if labels is not None:\n",
    "        ax.set_xticklabels(labels)\n",
    "\n",
    "    if hue is not None:\n",
    "        ax.legend(labels=(\"smooth\", \"scaly\", \"fibrous\", \"grooves\"), loc=0)\n",
    "\n",
    "\n",
    "# Example usage\n",
    "surface_dict = {\"smooth\": \"s\", \"scaly\": \"y\", \"fibrous\": \"f\", \"grooves\": \"g\"}\n",
    "plot_col(col=\"cap-surface\", hue=\"class\", labels=surface_dict, data=mush_encoded)\n",
    "\n",
    "# Display the plot\n",
    "plt.show()"
   ]
  },
  {
   "cell_type": "markdown",
   "id": "73b27d92-f09a-4840-923c-6adefbf939e2",
   "metadata": {},
   "source": [
    "Scaly Cap-surface (1) mushrooms are very low in quantity in the sample, other categories of cap-surface are in considerable number\n"
   ]
  },
  {
   "cell_type": "markdown",
   "id": "86458156",
   "metadata": {},
   "source": [
    "### <span style=\"color:#FFE527; font-size: 20px;\"> Distribution of mushrooms habitat - Insight 4</span>\n"
   ]
  },
  {
   "cell_type": "code",
   "execution_count": 44,
   "id": "5beba14b-a7fd-4c15-8aa4-c77ff84858e3",
   "metadata": {},
   "outputs": [
    {
     "data": {
      "application/vnd.plotly.v1+json": {
       "config": {
        "plotlyServerURL": "https://plot.ly"
       },
       "data": [
        {
         "hoverinfo": "label+value",
         "labels": [
          "Woods",
          "Grasses",
          "Paths",
          "Leaves",
          "Urban",
          "Meadows",
          "Waste"
         ],
         "marker": {
          "colors": [
           "#DEB887",
           "#778899",
           "#B22222",
           "#FFFF00",
           "#F8F8FF",
           "#FFE4C4",
           "#FF69B4"
          ]
         },
         "opacity": 0.9,
         "pull": [
          0.1,
          0,
          0,
          0,
          0.2,
          0,
          0
         ],
         "textfont": {
          "size": 25
         },
         "textinfo": "percent",
         "title": {
          "text": "Mushrooms Habitat Percentage"
         },
         "type": "pie",
         "values": [
          3619,
          2574,
          1554,
          1155,
          570,
          476,
          192
         ]
        }
       ],
       "layout": {
        "template": {
         "data": {
          "bar": [
           {
            "error_x": {
             "color": "#2a3f5f"
            },
            "error_y": {
             "color": "#2a3f5f"
            },
            "marker": {
             "line": {
              "color": "#E5ECF6",
              "width": 0.5
             },
             "pattern": {
              "fillmode": "overlay",
              "size": 10,
              "solidity": 0.2
             }
            },
            "type": "bar"
           }
          ],
          "barpolar": [
           {
            "marker": {
             "line": {
              "color": "#E5ECF6",
              "width": 0.5
             },
             "pattern": {
              "fillmode": "overlay",
              "size": 10,
              "solidity": 0.2
             }
            },
            "type": "barpolar"
           }
          ],
          "carpet": [
           {
            "aaxis": {
             "endlinecolor": "#2a3f5f",
             "gridcolor": "white",
             "linecolor": "white",
             "minorgridcolor": "white",
             "startlinecolor": "#2a3f5f"
            },
            "baxis": {
             "endlinecolor": "#2a3f5f",
             "gridcolor": "white",
             "linecolor": "white",
             "minorgridcolor": "white",
             "startlinecolor": "#2a3f5f"
            },
            "type": "carpet"
           }
          ],
          "choropleth": [
           {
            "colorbar": {
             "outlinewidth": 0,
             "ticks": ""
            },
            "type": "choropleth"
           }
          ],
          "contour": [
           {
            "colorbar": {
             "outlinewidth": 0,
             "ticks": ""
            },
            "colorscale": [
             [
              0,
              "#0d0887"
             ],
             [
              0.1111111111111111,
              "#46039f"
             ],
             [
              0.2222222222222222,
              "#7201a8"
             ],
             [
              0.3333333333333333,
              "#9c179e"
             ],
             [
              0.4444444444444444,
              "#bd3786"
             ],
             [
              0.5555555555555556,
              "#d8576b"
             ],
             [
              0.6666666666666666,
              "#ed7953"
             ],
             [
              0.7777777777777778,
              "#fb9f3a"
             ],
             [
              0.8888888888888888,
              "#fdca26"
             ],
             [
              1,
              "#f0f921"
             ]
            ],
            "type": "contour"
           }
          ],
          "contourcarpet": [
           {
            "colorbar": {
             "outlinewidth": 0,
             "ticks": ""
            },
            "type": "contourcarpet"
           }
          ],
          "heatmap": [
           {
            "colorbar": {
             "outlinewidth": 0,
             "ticks": ""
            },
            "colorscale": [
             [
              0,
              "#0d0887"
             ],
             [
              0.1111111111111111,
              "#46039f"
             ],
             [
              0.2222222222222222,
              "#7201a8"
             ],
             [
              0.3333333333333333,
              "#9c179e"
             ],
             [
              0.4444444444444444,
              "#bd3786"
             ],
             [
              0.5555555555555556,
              "#d8576b"
             ],
             [
              0.6666666666666666,
              "#ed7953"
             ],
             [
              0.7777777777777778,
              "#fb9f3a"
             ],
             [
              0.8888888888888888,
              "#fdca26"
             ],
             [
              1,
              "#f0f921"
             ]
            ],
            "type": "heatmap"
           }
          ],
          "heatmapgl": [
           {
            "colorbar": {
             "outlinewidth": 0,
             "ticks": ""
            },
            "colorscale": [
             [
              0,
              "#0d0887"
             ],
             [
              0.1111111111111111,
              "#46039f"
             ],
             [
              0.2222222222222222,
              "#7201a8"
             ],
             [
              0.3333333333333333,
              "#9c179e"
             ],
             [
              0.4444444444444444,
              "#bd3786"
             ],
             [
              0.5555555555555556,
              "#d8576b"
             ],
             [
              0.6666666666666666,
              "#ed7953"
             ],
             [
              0.7777777777777778,
              "#fb9f3a"
             ],
             [
              0.8888888888888888,
              "#fdca26"
             ],
             [
              1,
              "#f0f921"
             ]
            ],
            "type": "heatmapgl"
           }
          ],
          "histogram": [
           {
            "marker": {
             "pattern": {
              "fillmode": "overlay",
              "size": 10,
              "solidity": 0.2
             }
            },
            "type": "histogram"
           }
          ],
          "histogram2d": [
           {
            "colorbar": {
             "outlinewidth": 0,
             "ticks": ""
            },
            "colorscale": [
             [
              0,
              "#0d0887"
             ],
             [
              0.1111111111111111,
              "#46039f"
             ],
             [
              0.2222222222222222,
              "#7201a8"
             ],
             [
              0.3333333333333333,
              "#9c179e"
             ],
             [
              0.4444444444444444,
              "#bd3786"
             ],
             [
              0.5555555555555556,
              "#d8576b"
             ],
             [
              0.6666666666666666,
              "#ed7953"
             ],
             [
              0.7777777777777778,
              "#fb9f3a"
             ],
             [
              0.8888888888888888,
              "#fdca26"
             ],
             [
              1,
              "#f0f921"
             ]
            ],
            "type": "histogram2d"
           }
          ],
          "histogram2dcontour": [
           {
            "colorbar": {
             "outlinewidth": 0,
             "ticks": ""
            },
            "colorscale": [
             [
              0,
              "#0d0887"
             ],
             [
              0.1111111111111111,
              "#46039f"
             ],
             [
              0.2222222222222222,
              "#7201a8"
             ],
             [
              0.3333333333333333,
              "#9c179e"
             ],
             [
              0.4444444444444444,
              "#bd3786"
             ],
             [
              0.5555555555555556,
              "#d8576b"
             ],
             [
              0.6666666666666666,
              "#ed7953"
             ],
             [
              0.7777777777777778,
              "#fb9f3a"
             ],
             [
              0.8888888888888888,
              "#fdca26"
             ],
             [
              1,
              "#f0f921"
             ]
            ],
            "type": "histogram2dcontour"
           }
          ],
          "mesh3d": [
           {
            "colorbar": {
             "outlinewidth": 0,
             "ticks": ""
            },
            "type": "mesh3d"
           }
          ],
          "parcoords": [
           {
            "line": {
             "colorbar": {
              "outlinewidth": 0,
              "ticks": ""
             }
            },
            "type": "parcoords"
           }
          ],
          "pie": [
           {
            "automargin": true,
            "type": "pie"
           }
          ],
          "scatter": [
           {
            "fillpattern": {
             "fillmode": "overlay",
             "size": 10,
             "solidity": 0.2
            },
            "type": "scatter"
           }
          ],
          "scatter3d": [
           {
            "line": {
             "colorbar": {
              "outlinewidth": 0,
              "ticks": ""
             }
            },
            "marker": {
             "colorbar": {
              "outlinewidth": 0,
              "ticks": ""
             }
            },
            "type": "scatter3d"
           }
          ],
          "scattercarpet": [
           {
            "marker": {
             "colorbar": {
              "outlinewidth": 0,
              "ticks": ""
             }
            },
            "type": "scattercarpet"
           }
          ],
          "scattergeo": [
           {
            "marker": {
             "colorbar": {
              "outlinewidth": 0,
              "ticks": ""
             }
            },
            "type": "scattergeo"
           }
          ],
          "scattergl": [
           {
            "marker": {
             "colorbar": {
              "outlinewidth": 0,
              "ticks": ""
             }
            },
            "type": "scattergl"
           }
          ],
          "scattermapbox": [
           {
            "marker": {
             "colorbar": {
              "outlinewidth": 0,
              "ticks": ""
             }
            },
            "type": "scattermapbox"
           }
          ],
          "scatterpolar": [
           {
            "marker": {
             "colorbar": {
              "outlinewidth": 0,
              "ticks": ""
             }
            },
            "type": "scatterpolar"
           }
          ],
          "scatterpolargl": [
           {
            "marker": {
             "colorbar": {
              "outlinewidth": 0,
              "ticks": ""
             }
            },
            "type": "scatterpolargl"
           }
          ],
          "scatterternary": [
           {
            "marker": {
             "colorbar": {
              "outlinewidth": 0,
              "ticks": ""
             }
            },
            "type": "scatterternary"
           }
          ],
          "surface": [
           {
            "colorbar": {
             "outlinewidth": 0,
             "ticks": ""
            },
            "colorscale": [
             [
              0,
              "#0d0887"
             ],
             [
              0.1111111111111111,
              "#46039f"
             ],
             [
              0.2222222222222222,
              "#7201a8"
             ],
             [
              0.3333333333333333,
              "#9c179e"
             ],
             [
              0.4444444444444444,
              "#bd3786"
             ],
             [
              0.5555555555555556,
              "#d8576b"
             ],
             [
              0.6666666666666666,
              "#ed7953"
             ],
             [
              0.7777777777777778,
              "#fb9f3a"
             ],
             [
              0.8888888888888888,
              "#fdca26"
             ],
             [
              1,
              "#f0f921"
             ]
            ],
            "type": "surface"
           }
          ],
          "table": [
           {
            "cells": {
             "fill": {
              "color": "#EBF0F8"
             },
             "line": {
              "color": "white"
             }
            },
            "header": {
             "fill": {
              "color": "#C8D4E3"
             },
             "line": {
              "color": "white"
             }
            },
            "type": "table"
           }
          ]
         },
         "layout": {
          "annotationdefaults": {
           "arrowcolor": "#2a3f5f",
           "arrowhead": 0,
           "arrowwidth": 1
          },
          "autotypenumbers": "strict",
          "coloraxis": {
           "colorbar": {
            "outlinewidth": 0,
            "ticks": ""
           }
          },
          "colorscale": {
           "diverging": [
            [
             0,
             "#8e0152"
            ],
            [
             0.1,
             "#c51b7d"
            ],
            [
             0.2,
             "#de77ae"
            ],
            [
             0.3,
             "#f1b6da"
            ],
            [
             0.4,
             "#fde0ef"
            ],
            [
             0.5,
             "#f7f7f7"
            ],
            [
             0.6,
             "#e6f5d0"
            ],
            [
             0.7,
             "#b8e186"
            ],
            [
             0.8,
             "#7fbc41"
            ],
            [
             0.9,
             "#4d9221"
            ],
            [
             1,
             "#276419"
            ]
           ],
           "sequential": [
            [
             0,
             "#0d0887"
            ],
            [
             0.1111111111111111,
             "#46039f"
            ],
            [
             0.2222222222222222,
             "#7201a8"
            ],
            [
             0.3333333333333333,
             "#9c179e"
            ],
            [
             0.4444444444444444,
             "#bd3786"
            ],
            [
             0.5555555555555556,
             "#d8576b"
            ],
            [
             0.6666666666666666,
             "#ed7953"
            ],
            [
             0.7777777777777778,
             "#fb9f3a"
            ],
            [
             0.8888888888888888,
             "#fdca26"
            ],
            [
             1,
             "#f0f921"
            ]
           ],
           "sequentialminus": [
            [
             0,
             "#0d0887"
            ],
            [
             0.1111111111111111,
             "#46039f"
            ],
            [
             0.2222222222222222,
             "#7201a8"
            ],
            [
             0.3333333333333333,
             "#9c179e"
            ],
            [
             0.4444444444444444,
             "#bd3786"
            ],
            [
             0.5555555555555556,
             "#d8576b"
            ],
            [
             0.6666666666666666,
             "#ed7953"
            ],
            [
             0.7777777777777778,
             "#fb9f3a"
            ],
            [
             0.8888888888888888,
             "#fdca26"
            ],
            [
             1,
             "#f0f921"
            ]
           ]
          },
          "colorway": [
           "#636efa",
           "#EF553B",
           "#00cc96",
           "#ab63fa",
           "#FFA15A",
           "#19d3f3",
           "#FF6692",
           "#B6E880",
           "#FF97FF",
           "#FECB52"
          ],
          "font": {
           "color": "#2a3f5f"
          },
          "geo": {
           "bgcolor": "white",
           "lakecolor": "white",
           "landcolor": "#E5ECF6",
           "showlakes": true,
           "showland": true,
           "subunitcolor": "white"
          },
          "hoverlabel": {
           "align": "left"
          },
          "hovermode": "closest",
          "mapbox": {
           "style": "light"
          },
          "paper_bgcolor": "white",
          "plot_bgcolor": "#E5ECF6",
          "polar": {
           "angularaxis": {
            "gridcolor": "white",
            "linecolor": "white",
            "ticks": ""
           },
           "bgcolor": "#E5ECF6",
           "radialaxis": {
            "gridcolor": "white",
            "linecolor": "white",
            "ticks": ""
           }
          },
          "scene": {
           "xaxis": {
            "backgroundcolor": "#E5ECF6",
            "gridcolor": "white",
            "gridwidth": 2,
            "linecolor": "white",
            "showbackground": true,
            "ticks": "",
            "zerolinecolor": "white"
           },
           "yaxis": {
            "backgroundcolor": "#E5ECF6",
            "gridcolor": "white",
            "gridwidth": 2,
            "linecolor": "white",
            "showbackground": true,
            "ticks": "",
            "zerolinecolor": "white"
           },
           "zaxis": {
            "backgroundcolor": "#E5ECF6",
            "gridcolor": "white",
            "gridwidth": 2,
            "linecolor": "white",
            "showbackground": true,
            "ticks": "",
            "zerolinecolor": "white"
           }
          },
          "shapedefaults": {
           "line": {
            "color": "#2a3f5f"
           }
          },
          "ternary": {
           "aaxis": {
            "gridcolor": "white",
            "linecolor": "white",
            "ticks": ""
           },
           "baxis": {
            "gridcolor": "white",
            "linecolor": "white",
            "ticks": ""
           },
           "bgcolor": "#E5ECF6",
           "caxis": {
            "gridcolor": "white",
            "linecolor": "white",
            "ticks": ""
           }
          },
          "title": {
           "x": 0.05
          },
          "xaxis": {
           "automargin": true,
           "gridcolor": "white",
           "linecolor": "white",
           "ticks": "",
           "title": {
            "standoff": 15
           },
           "zerolinecolor": "white",
           "zerolinewidth": 2
          },
          "yaxis": {
           "automargin": true,
           "gridcolor": "white",
           "linecolor": "white",
           "ticks": "",
           "title": {
            "standoff": 15
           },
           "zerolinecolor": "white",
           "zerolinewidth": 2
          }
         }
        }
       }
      }
     },
     "metadata": {},
     "output_type": "display_data"
    }
   ],
   "source": [
    "# Plot to understand the habitat of different mushrooms\n",
    "labels = [\"Woods\", \"Grasses\", \"Paths\", \"Leaves\", \"Urban\", \"Meadows\", \"Waste\"]\n",
    "values = mush_encoded[\"habitat\"].value_counts()\n",
    "colors = [\"#DEB887\", \"#778899\", \"#B22222\", \"#FFFF00\", \"#F8F8FF\", \"#FFE4C4\", \"#FF69B4\"]\n",
    "\n",
    "fig = go.Figure(\n",
    "    data=[\n",
    "        go.Pie(\n",
    "            labels=labels,\n",
    "            values=values,\n",
    "            # marker_colors=labels,\n",
    "            pull=[0.1, 0, 0, 0, 0.2, 0, 0],\n",
    "        )\n",
    "    ]\n",
    ")\n",
    "fig.update_traces(\n",
    "    title=\"Mushrooms Habitat Percentage\",\n",
    "    hoverinfo=\"label+value\",\n",
    "    textinfo=\"percent\",\n",
    "    opacity=0.9,\n",
    "    textfont_size=25,\n",
    "    marker=dict(colors=colors),\n",
    ")\n",
    "fig.show()"
   ]
  },
  {
   "cell_type": "markdown",
   "id": "446596c5",
   "metadata": {},
   "source": [
    "Woods and Grasses Mushrooms are the most frequent habitat of mushrooms\n"
   ]
  },
  {
   "cell_type": "markdown",
   "id": "de22e0be",
   "metadata": {},
   "source": [
    "### <span style=\"color:#FFE527; font-size: 20px;\"> Distribution of mushrooms color - Insight 5</span>\n"
   ]
  },
  {
   "cell_type": "code",
   "execution_count": 45,
   "id": "8f0a4270-cd06-4c4d-b24f-c4a61549b4f7",
   "metadata": {},
   "outputs": [
    {
     "data": {
      "application/vnd.plotly.v1+json": {
       "config": {
        "plotlyServerURL": "https://plot.ly"
       },
       "data": [
        {
         "hoverinfo": "label+percent",
         "labels": [
          "Brown",
          "Gray",
          "Red",
          "Yellow",
          "White",
          "Buff",
          "Pink",
          "Cinnamon",
          "Purple",
          "Green"
         ],
         "marker": {
          "colors": [
           "#DEB887",
           "#778899",
           "#B22222",
           "#FFFF00",
           "#F8F8FF",
           "#FFE4C4",
           "#FF69B4",
           "#F0DC82",
           "#C000C5",
           "#228B22"
          ]
         },
         "opacity": 0.9,
         "pull": [
          0,
          0,
          0,
          0,
          0.2,
          0,
          0,
          0,
          0,
          0
         ],
         "textfont": {
          "size": 25
         },
         "textinfo": "value",
         "title": {
          "text": "Mushrooms Color Quantity"
         },
         "type": "pie",
         "values": [
          2938,
          2015,
          1931,
          1468,
          1387,
          168,
          144,
          57,
          16,
          16
         ]
        }
       ],
       "layout": {
        "template": {
         "data": {
          "bar": [
           {
            "error_x": {
             "color": "#2a3f5f"
            },
            "error_y": {
             "color": "#2a3f5f"
            },
            "marker": {
             "line": {
              "color": "#E5ECF6",
              "width": 0.5
             },
             "pattern": {
              "fillmode": "overlay",
              "size": 10,
              "solidity": 0.2
             }
            },
            "type": "bar"
           }
          ],
          "barpolar": [
           {
            "marker": {
             "line": {
              "color": "#E5ECF6",
              "width": 0.5
             },
             "pattern": {
              "fillmode": "overlay",
              "size": 10,
              "solidity": 0.2
             }
            },
            "type": "barpolar"
           }
          ],
          "carpet": [
           {
            "aaxis": {
             "endlinecolor": "#2a3f5f",
             "gridcolor": "white",
             "linecolor": "white",
             "minorgridcolor": "white",
             "startlinecolor": "#2a3f5f"
            },
            "baxis": {
             "endlinecolor": "#2a3f5f",
             "gridcolor": "white",
             "linecolor": "white",
             "minorgridcolor": "white",
             "startlinecolor": "#2a3f5f"
            },
            "type": "carpet"
           }
          ],
          "choropleth": [
           {
            "colorbar": {
             "outlinewidth": 0,
             "ticks": ""
            },
            "type": "choropleth"
           }
          ],
          "contour": [
           {
            "colorbar": {
             "outlinewidth": 0,
             "ticks": ""
            },
            "colorscale": [
             [
              0,
              "#0d0887"
             ],
             [
              0.1111111111111111,
              "#46039f"
             ],
             [
              0.2222222222222222,
              "#7201a8"
             ],
             [
              0.3333333333333333,
              "#9c179e"
             ],
             [
              0.4444444444444444,
              "#bd3786"
             ],
             [
              0.5555555555555556,
              "#d8576b"
             ],
             [
              0.6666666666666666,
              "#ed7953"
             ],
             [
              0.7777777777777778,
              "#fb9f3a"
             ],
             [
              0.8888888888888888,
              "#fdca26"
             ],
             [
              1,
              "#f0f921"
             ]
            ],
            "type": "contour"
           }
          ],
          "contourcarpet": [
           {
            "colorbar": {
             "outlinewidth": 0,
             "ticks": ""
            },
            "type": "contourcarpet"
           }
          ],
          "heatmap": [
           {
            "colorbar": {
             "outlinewidth": 0,
             "ticks": ""
            },
            "colorscale": [
             [
              0,
              "#0d0887"
             ],
             [
              0.1111111111111111,
              "#46039f"
             ],
             [
              0.2222222222222222,
              "#7201a8"
             ],
             [
              0.3333333333333333,
              "#9c179e"
             ],
             [
              0.4444444444444444,
              "#bd3786"
             ],
             [
              0.5555555555555556,
              "#d8576b"
             ],
             [
              0.6666666666666666,
              "#ed7953"
             ],
             [
              0.7777777777777778,
              "#fb9f3a"
             ],
             [
              0.8888888888888888,
              "#fdca26"
             ],
             [
              1,
              "#f0f921"
             ]
            ],
            "type": "heatmap"
           }
          ],
          "heatmapgl": [
           {
            "colorbar": {
             "outlinewidth": 0,
             "ticks": ""
            },
            "colorscale": [
             [
              0,
              "#0d0887"
             ],
             [
              0.1111111111111111,
              "#46039f"
             ],
             [
              0.2222222222222222,
              "#7201a8"
             ],
             [
              0.3333333333333333,
              "#9c179e"
             ],
             [
              0.4444444444444444,
              "#bd3786"
             ],
             [
              0.5555555555555556,
              "#d8576b"
             ],
             [
              0.6666666666666666,
              "#ed7953"
             ],
             [
              0.7777777777777778,
              "#fb9f3a"
             ],
             [
              0.8888888888888888,
              "#fdca26"
             ],
             [
              1,
              "#f0f921"
             ]
            ],
            "type": "heatmapgl"
           }
          ],
          "histogram": [
           {
            "marker": {
             "pattern": {
              "fillmode": "overlay",
              "size": 10,
              "solidity": 0.2
             }
            },
            "type": "histogram"
           }
          ],
          "histogram2d": [
           {
            "colorbar": {
             "outlinewidth": 0,
             "ticks": ""
            },
            "colorscale": [
             [
              0,
              "#0d0887"
             ],
             [
              0.1111111111111111,
              "#46039f"
             ],
             [
              0.2222222222222222,
              "#7201a8"
             ],
             [
              0.3333333333333333,
              "#9c179e"
             ],
             [
              0.4444444444444444,
              "#bd3786"
             ],
             [
              0.5555555555555556,
              "#d8576b"
             ],
             [
              0.6666666666666666,
              "#ed7953"
             ],
             [
              0.7777777777777778,
              "#fb9f3a"
             ],
             [
              0.8888888888888888,
              "#fdca26"
             ],
             [
              1,
              "#f0f921"
             ]
            ],
            "type": "histogram2d"
           }
          ],
          "histogram2dcontour": [
           {
            "colorbar": {
             "outlinewidth": 0,
             "ticks": ""
            },
            "colorscale": [
             [
              0,
              "#0d0887"
             ],
             [
              0.1111111111111111,
              "#46039f"
             ],
             [
              0.2222222222222222,
              "#7201a8"
             ],
             [
              0.3333333333333333,
              "#9c179e"
             ],
             [
              0.4444444444444444,
              "#bd3786"
             ],
             [
              0.5555555555555556,
              "#d8576b"
             ],
             [
              0.6666666666666666,
              "#ed7953"
             ],
             [
              0.7777777777777778,
              "#fb9f3a"
             ],
             [
              0.8888888888888888,
              "#fdca26"
             ],
             [
              1,
              "#f0f921"
             ]
            ],
            "type": "histogram2dcontour"
           }
          ],
          "mesh3d": [
           {
            "colorbar": {
             "outlinewidth": 0,
             "ticks": ""
            },
            "type": "mesh3d"
           }
          ],
          "parcoords": [
           {
            "line": {
             "colorbar": {
              "outlinewidth": 0,
              "ticks": ""
             }
            },
            "type": "parcoords"
           }
          ],
          "pie": [
           {
            "automargin": true,
            "type": "pie"
           }
          ],
          "scatter": [
           {
            "fillpattern": {
             "fillmode": "overlay",
             "size": 10,
             "solidity": 0.2
            },
            "type": "scatter"
           }
          ],
          "scatter3d": [
           {
            "line": {
             "colorbar": {
              "outlinewidth": 0,
              "ticks": ""
             }
            },
            "marker": {
             "colorbar": {
              "outlinewidth": 0,
              "ticks": ""
             }
            },
            "type": "scatter3d"
           }
          ],
          "scattercarpet": [
           {
            "marker": {
             "colorbar": {
              "outlinewidth": 0,
              "ticks": ""
             }
            },
            "type": "scattercarpet"
           }
          ],
          "scattergeo": [
           {
            "marker": {
             "colorbar": {
              "outlinewidth": 0,
              "ticks": ""
             }
            },
            "type": "scattergeo"
           }
          ],
          "scattergl": [
           {
            "marker": {
             "colorbar": {
              "outlinewidth": 0,
              "ticks": ""
             }
            },
            "type": "scattergl"
           }
          ],
          "scattermapbox": [
           {
            "marker": {
             "colorbar": {
              "outlinewidth": 0,
              "ticks": ""
             }
            },
            "type": "scattermapbox"
           }
          ],
          "scatterpolar": [
           {
            "marker": {
             "colorbar": {
              "outlinewidth": 0,
              "ticks": ""
             }
            },
            "type": "scatterpolar"
           }
          ],
          "scatterpolargl": [
           {
            "marker": {
             "colorbar": {
              "outlinewidth": 0,
              "ticks": ""
             }
            },
            "type": "scatterpolargl"
           }
          ],
          "scatterternary": [
           {
            "marker": {
             "colorbar": {
              "outlinewidth": 0,
              "ticks": ""
             }
            },
            "type": "scatterternary"
           }
          ],
          "surface": [
           {
            "colorbar": {
             "outlinewidth": 0,
             "ticks": ""
            },
            "colorscale": [
             [
              0,
              "#0d0887"
             ],
             [
              0.1111111111111111,
              "#46039f"
             ],
             [
              0.2222222222222222,
              "#7201a8"
             ],
             [
              0.3333333333333333,
              "#9c179e"
             ],
             [
              0.4444444444444444,
              "#bd3786"
             ],
             [
              0.5555555555555556,
              "#d8576b"
             ],
             [
              0.6666666666666666,
              "#ed7953"
             ],
             [
              0.7777777777777778,
              "#fb9f3a"
             ],
             [
              0.8888888888888888,
              "#fdca26"
             ],
             [
              1,
              "#f0f921"
             ]
            ],
            "type": "surface"
           }
          ],
          "table": [
           {
            "cells": {
             "fill": {
              "color": "#EBF0F8"
             },
             "line": {
              "color": "white"
             }
            },
            "header": {
             "fill": {
              "color": "#C8D4E3"
             },
             "line": {
              "color": "white"
             }
            },
            "type": "table"
           }
          ]
         },
         "layout": {
          "annotationdefaults": {
           "arrowcolor": "#2a3f5f",
           "arrowhead": 0,
           "arrowwidth": 1
          },
          "autotypenumbers": "strict",
          "coloraxis": {
           "colorbar": {
            "outlinewidth": 0,
            "ticks": ""
           }
          },
          "colorscale": {
           "diverging": [
            [
             0,
             "#8e0152"
            ],
            [
             0.1,
             "#c51b7d"
            ],
            [
             0.2,
             "#de77ae"
            ],
            [
             0.3,
             "#f1b6da"
            ],
            [
             0.4,
             "#fde0ef"
            ],
            [
             0.5,
             "#f7f7f7"
            ],
            [
             0.6,
             "#e6f5d0"
            ],
            [
             0.7,
             "#b8e186"
            ],
            [
             0.8,
             "#7fbc41"
            ],
            [
             0.9,
             "#4d9221"
            ],
            [
             1,
             "#276419"
            ]
           ],
           "sequential": [
            [
             0,
             "#0d0887"
            ],
            [
             0.1111111111111111,
             "#46039f"
            ],
            [
             0.2222222222222222,
             "#7201a8"
            ],
            [
             0.3333333333333333,
             "#9c179e"
            ],
            [
             0.4444444444444444,
             "#bd3786"
            ],
            [
             0.5555555555555556,
             "#d8576b"
            ],
            [
             0.6666666666666666,
             "#ed7953"
            ],
            [
             0.7777777777777778,
             "#fb9f3a"
            ],
            [
             0.8888888888888888,
             "#fdca26"
            ],
            [
             1,
             "#f0f921"
            ]
           ],
           "sequentialminus": [
            [
             0,
             "#0d0887"
            ],
            [
             0.1111111111111111,
             "#46039f"
            ],
            [
             0.2222222222222222,
             "#7201a8"
            ],
            [
             0.3333333333333333,
             "#9c179e"
            ],
            [
             0.4444444444444444,
             "#bd3786"
            ],
            [
             0.5555555555555556,
             "#d8576b"
            ],
            [
             0.6666666666666666,
             "#ed7953"
            ],
            [
             0.7777777777777778,
             "#fb9f3a"
            ],
            [
             0.8888888888888888,
             "#fdca26"
            ],
            [
             1,
             "#f0f921"
            ]
           ]
          },
          "colorway": [
           "#636efa",
           "#EF553B",
           "#00cc96",
           "#ab63fa",
           "#FFA15A",
           "#19d3f3",
           "#FF6692",
           "#B6E880",
           "#FF97FF",
           "#FECB52"
          ],
          "font": {
           "color": "#2a3f5f"
          },
          "geo": {
           "bgcolor": "white",
           "lakecolor": "white",
           "landcolor": "#E5ECF6",
           "showlakes": true,
           "showland": true,
           "subunitcolor": "white"
          },
          "hoverlabel": {
           "align": "left"
          },
          "hovermode": "closest",
          "mapbox": {
           "style": "light"
          },
          "paper_bgcolor": "white",
          "plot_bgcolor": "#E5ECF6",
          "polar": {
           "angularaxis": {
            "gridcolor": "white",
            "linecolor": "white",
            "ticks": ""
           },
           "bgcolor": "#E5ECF6",
           "radialaxis": {
            "gridcolor": "white",
            "linecolor": "white",
            "ticks": ""
           }
          },
          "scene": {
           "xaxis": {
            "backgroundcolor": "#E5ECF6",
            "gridcolor": "white",
            "gridwidth": 2,
            "linecolor": "white",
            "showbackground": true,
            "ticks": "",
            "zerolinecolor": "white"
           },
           "yaxis": {
            "backgroundcolor": "#E5ECF6",
            "gridcolor": "white",
            "gridwidth": 2,
            "linecolor": "white",
            "showbackground": true,
            "ticks": "",
            "zerolinecolor": "white"
           },
           "zaxis": {
            "backgroundcolor": "#E5ECF6",
            "gridcolor": "white",
            "gridwidth": 2,
            "linecolor": "white",
            "showbackground": true,
            "ticks": "",
            "zerolinecolor": "white"
           }
          },
          "shapedefaults": {
           "line": {
            "color": "#2a3f5f"
           }
          },
          "ternary": {
           "aaxis": {
            "gridcolor": "white",
            "linecolor": "white",
            "ticks": ""
           },
           "baxis": {
            "gridcolor": "white",
            "linecolor": "white",
            "ticks": ""
           },
           "bgcolor": "#E5ECF6",
           "caxis": {
            "gridcolor": "white",
            "linecolor": "white",
            "ticks": ""
           }
          },
          "title": {
           "x": 0.05
          },
          "xaxis": {
           "automargin": true,
           "gridcolor": "white",
           "linecolor": "white",
           "ticks": "",
           "title": {
            "standoff": 15
           },
           "zerolinecolor": "white",
           "zerolinewidth": 2
          },
          "yaxis": {
           "automargin": true,
           "gridcolor": "white",
           "linecolor": "white",
           "ticks": "",
           "title": {
            "standoff": 15
           },
           "zerolinecolor": "white",
           "zerolinewidth": 2
          }
         }
        }
       }
      }
     },
     "metadata": {},
     "output_type": "display_data"
    }
   ],
   "source": [
    "labels = [\n",
    "    \"Brown\",\n",
    "    \"Gray\",\n",
    "    \"Red\",\n",
    "    \"Yellow\",\n",
    "    \"White\",\n",
    "    \"Buff\",\n",
    "    \"Pink\",\n",
    "    \"Cinnamon\",\n",
    "    \"Purple\",\n",
    "    \"Green\",\n",
    "]\n",
    "values = mush_encoded[\"cap-color\"].value_counts()\n",
    "colors = [\n",
    "    \"#DEB887\",\n",
    "    \"#778899\",\n",
    "    \"#B22222\",\n",
    "    \"#FFFF00\",\n",
    "    \"#F8F8FF\",\n",
    "    \"#FFE4C4\",\n",
    "    \"#FF69B4\",\n",
    "    \"#F0DC82\",\n",
    "    \"#C000C5\",\n",
    "    \"#228B22\",\n",
    "]\n",
    "\n",
    "fig = go.Figure(\n",
    "    data=[go.Pie(labels=labels, values=values, pull=[0, 0, 0, 0, 0.2, 0, 0, 0, 0, 0])]\n",
    ")\n",
    "\n",
    "fig.update_traces(\n",
    "    title=\"Mushrooms Color Quantity\",\n",
    "    hoverinfo=\"label+percent\",\n",
    "    textinfo=\"value\",\n",
    "    opacity=0.9,\n",
    "    textfont_size=25,\n",
    "    marker=dict(colors=colors),\n",
    ")\n",
    "\n",
    "fig.show()"
   ]
  },
  {
   "cell_type": "markdown",
   "id": "c404bf16",
   "metadata": {},
   "source": [
    "All colors have a decent number of samples , with brown & gray having a bit more\n"
   ]
  },
  {
   "cell_type": "markdown",
   "id": "9e1346e8",
   "metadata": {},
   "source": [
    "## <span style=\"color:#00FF8B; font-size: 28px;\"> PCA (Principal Component Analysis) </span>\n"
   ]
  },
  {
   "cell_type": "markdown",
   "id": "20cad0ef",
   "metadata": {},
   "source": [
    "### <span style=\"color:#FFE527; font-size: 20px;\"> Figuring out a good n_components </span>\n"
   ]
  },
  {
   "cell_type": "code",
   "execution_count": 46,
   "id": "e78bc451",
   "metadata": {},
   "outputs": [
    {
     "data": {
      "image/png": "[encoded data removed]",
      "text/plain": [
       "<Figure size 640x480 with 1 Axes>"
      ]
     },
     "metadata": {},
     "output_type": "display_data"
    }
   ],
   "source": [
    "# Get the 22 features\n",
    "mush_encoded_features = mush_encoded.drop([\"class\"], axis=1)\n",
    "\n",
    "# Draw the cumulative variance graph\n",
    "\n",
    "pca = PCA().fit(mush_encoded)\n",
    "plt.plot(np.cumsum(pca.explained_variance_ratio_))\n",
    "\n",
    "plt.xlabel(\"Number of Components\")\n",
    "\n",
    "plt.ylabel(\"Cumulative Explained Variance\")\n",
    "\n",
    "plt.show()"
   ]
  },
  {
   "cell_type": "markdown",
   "id": "d20c1406",
   "metadata": {},
   "source": [
    "From the graph, we can see that the cumulative variance explained is approximately constant when n is bigger than 10, so we can choose like 12 features as a good representation\n"
   ]
  },
  {
   "cell_type": "markdown",
   "id": "df5fb05e",
   "metadata": {},
   "source": [
    "### <span style=\"color:#FFE527; font-size: 20px;\"> Applying PCA to the mushrooms data </span>\n"
   ]
  },
  {
   "cell_type": "code",
   "execution_count": 47,
   "id": "bd5d1a66",
   "metadata": {},
   "outputs": [
    {
     "data": {
      "text/html": [
       "<div>\n",
       "<style scoped>\n",
       "    .dataframe tbody tr th:only-of-type {\n",
       "        vertical-align: middle;\n",
       "    }\n",
       "\n",
       "    .dataframe tbody tr th {\n",
       "        vertical-align: top;\n",
       "    }\n",
       "\n",
       "    .dataframe thead th {\n",
       "        text-align: right;\n",
       "    }\n",
       "</style>\n",
       "<table border=\"1\" class=\"dataframe\">\n",
       "  <thead>\n",
       "    <tr style=\"text-align: right;\">\n",
       "      <th></th>\n",
       "      <th>PC1</th>\n",
       "      <th>PC2</th>\n",
       "      <th>PC3</th>\n",
       "      <th>PC4</th>\n",
       "      <th>PC5</th>\n",
       "      <th>PC6</th>\n",
       "      <th>PC7</th>\n",
       "      <th>PC8</th>\n",
       "      <th>PC9</th>\n",
       "      <th>PC10</th>\n",
       "      <th>PC11</th>\n",
       "      <th>PC12</th>\n",
       "    </tr>\n",
       "  </thead>\n",
       "  <tbody>\n",
       "    <tr>\n",
       "      <th>0</th>\n",
       "      <td>3.002579</td>\n",
       "      <td>5.364892</td>\n",
       "      <td>-1.347101</td>\n",
       "      <td>-1.141750</td>\n",
       "      <td>-0.171584</td>\n",
       "      <td>-0.529319</td>\n",
       "      <td>2.366642</td>\n",
       "      <td>-0.096803</td>\n",
       "      <td>-0.084028</td>\n",
       "      <td>-0.125804</td>\n",
       "      <td>-1.670856</td>\n",
       "      <td>0.155641</td>\n",
       "    </tr>\n",
       "    <tr>\n",
       "      <th>1</th>\n",
       "      <td>2.510109</td>\n",
       "      <td>3.261355</td>\n",
       "      <td>-2.650322</td>\n",
       "      <td>1.275340</td>\n",
       "      <td>1.128346</td>\n",
       "      <td>-0.623683</td>\n",
       "      <td>-2.699145</td>\n",
       "      <td>-0.180230</td>\n",
       "      <td>-0.013552</td>\n",
       "      <td>0.132614</td>\n",
       "      <td>-1.132139</td>\n",
       "      <td>0.216183</td>\n",
       "    </tr>\n",
       "    <tr>\n",
       "      <th>2</th>\n",
       "      <td>-1.143462</td>\n",
       "      <td>-0.770913</td>\n",
       "      <td>-1.189474</td>\n",
       "      <td>-1.945557</td>\n",
       "      <td>-1.315332</td>\n",
       "      <td>2.191960</td>\n",
       "      <td>0.260524</td>\n",
       "      <td>3.399995</td>\n",
       "      <td>-0.313561</td>\n",
       "      <td>-1.635409</td>\n",
       "      <td>-1.834982</td>\n",
       "      <td>-0.416758</td>\n",
       "    </tr>\n",
       "    <tr>\n",
       "      <th>3</th>\n",
       "      <td>4.091069</td>\n",
       "      <td>5.086140</td>\n",
       "      <td>-1.307410</td>\n",
       "      <td>-1.240246</td>\n",
       "      <td>-0.124768</td>\n",
       "      <td>-0.303457</td>\n",
       "      <td>2.136650</td>\n",
       "      <td>-0.086728</td>\n",
       "      <td>-0.089004</td>\n",
       "      <td>-1.213063</td>\n",
       "      <td>-1.177214</td>\n",
       "      <td>0.497293</td>\n",
       "    </tr>\n",
       "    <tr>\n",
       "      <th>4</th>\n",
       "      <td>1.516468</td>\n",
       "      <td>6.310479</td>\n",
       "      <td>-1.036491</td>\n",
       "      <td>-0.697181</td>\n",
       "      <td>2.093802</td>\n",
       "      <td>-1.569956</td>\n",
       "      <td>-2.635765</td>\n",
       "      <td>0.192132</td>\n",
       "      <td>0.010582</td>\n",
       "      <td>0.158995</td>\n",
       "      <td>-1.524254</td>\n",
       "      <td>0.271477</td>\n",
       "    </tr>\n",
       "    <tr>\n",
       "      <th>...</th>\n",
       "      <td>...</td>\n",
       "      <td>...</td>\n",
       "      <td>...</td>\n",
       "      <td>...</td>\n",
       "      <td>...</td>\n",
       "      <td>...</td>\n",
       "      <td>...</td>\n",
       "      <td>...</td>\n",
       "      <td>...</td>\n",
       "      <td>...</td>\n",
       "      <td>...</td>\n",
       "      <td>...</td>\n",
       "    </tr>\n",
       "    <tr>\n",
       "      <th>10135</th>\n",
       "      <td>-7.563650</td>\n",
       "      <td>-1.639401</td>\n",
       "      <td>-0.830159</td>\n",
       "      <td>0.771292</td>\n",
       "      <td>0.745221</td>\n",
       "      <td>1.468261</td>\n",
       "      <td>-0.977327</td>\n",
       "      <td>-1.212287</td>\n",
       "      <td>0.751452</td>\n",
       "      <td>-0.508511</td>\n",
       "      <td>0.204713</td>\n",
       "      <td>-0.068494</td>\n",
       "    </tr>\n",
       "    <tr>\n",
       "      <th>10136</th>\n",
       "      <td>-6.977861</td>\n",
       "      <td>-0.314097</td>\n",
       "      <td>-1.257664</td>\n",
       "      <td>1.654180</td>\n",
       "      <td>-0.099683</td>\n",
       "      <td>1.690880</td>\n",
       "      <td>-0.822794</td>\n",
       "      <td>-1.317475</td>\n",
       "      <td>0.780927</td>\n",
       "      <td>0.530194</td>\n",
       "      <td>0.261081</td>\n",
       "      <td>-0.166257</td>\n",
       "    </tr>\n",
       "    <tr>\n",
       "      <th>10137</th>\n",
       "      <td>-6.026905</td>\n",
       "      <td>1.075872</td>\n",
       "      <td>0.645108</td>\n",
       "      <td>-1.639980</td>\n",
       "      <td>3.393347</td>\n",
       "      <td>0.425599</td>\n",
       "      <td>2.455520</td>\n",
       "      <td>0.253198</td>\n",
       "      <td>0.655080</td>\n",
       "      <td>-0.131303</td>\n",
       "      <td>0.520360</td>\n",
       "      <td>0.236223</td>\n",
       "    </tr>\n",
       "    <tr>\n",
       "      <th>10138</th>\n",
       "      <td>2.787570</td>\n",
       "      <td>-0.100187</td>\n",
       "      <td>-6.858545</td>\n",
       "      <td>4.537827</td>\n",
       "      <td>0.146296</td>\n",
       "      <td>0.421906</td>\n",
       "      <td>1.554094</td>\n",
       "      <td>2.374053</td>\n",
       "      <td>-0.307809</td>\n",
       "      <td>-0.852678</td>\n",
       "      <td>0.764610</td>\n",
       "      <td>-1.093888</td>\n",
       "    </tr>\n",
       "    <tr>\n",
       "      <th>10139</th>\n",
       "      <td>2.965044</td>\n",
       "      <td>-6.308102</td>\n",
       "      <td>3.868930</td>\n",
       "      <td>3.763309</td>\n",
       "      <td>1.925043</td>\n",
       "      <td>-0.185665</td>\n",
       "      <td>3.693433</td>\n",
       "      <td>1.955315</td>\n",
       "      <td>-0.569438</td>\n",
       "      <td>-1.871756</td>\n",
       "      <td>-3.663214</td>\n",
       "      <td>-1.778038</td>\n",
       "    </tr>\n",
       "  </tbody>\n",
       "</table>\n",
       "<p>10140 rows × 12 columns</p>\n",
       "</div>"
      ],
      "text/plain": [
       "            PC1       PC2       PC3       PC4       PC5       PC6       PC7  \\\n",
       "0      3.002579  5.364892 -1.347101 -1.141750 -0.171584 -0.529319  2.366642   \n",
       "1      2.510109  3.261355 -2.650322  1.275340  1.128346 -0.623683 -2.699145   \n",
       "2     -1.143462 -0.770913 -1.189474 -1.945557 -1.315332  2.191960  0.260524   \n",
       "3      4.091069  5.086140 -1.307410 -1.240246 -0.124768 -0.303457  2.136650   \n",
       "4      1.516468  6.310479 -1.036491 -0.697181  2.093802 -1.569956 -2.635765   \n",
       "...         ...       ...       ...       ...       ...       ...       ...   \n",
       "10135 -7.563650 -1.639401 -0.830159  0.771292  0.745221  1.468261 -0.977327   \n",
       "10136 -6.977861 -0.314097 -1.257664  1.654180 -0.099683  1.690880 -0.822794   \n",
       "10137 -6.026905  1.075872  0.645108 -1.639980  3.393347  0.425599  2.455520   \n",
       "10138  2.787570 -0.100187 -6.858545  4.537827  0.146296  0.421906  1.554094   \n",
       "10139  2.965044 -6.308102  3.868930  3.763309  1.925043 -0.185665  3.693433   \n",
       "\n",
       "            PC8       PC9      PC10      PC11      PC12  \n",
       "0     -0.096803 -0.084028 -0.125804 -1.670856  0.155641  \n",
       "1     -0.180230 -0.013552  0.132614 -1.132139  0.216183  \n",
       "2      3.399995 -0.313561 -1.635409 -1.834982 -0.416758  \n",
       "3     -0.086728 -0.089004 -1.213063 -1.177214  0.497293  \n",
       "4      0.192132  0.010582  0.158995 -1.524254  0.271477  \n",
       "...         ...       ...       ...       ...       ...  \n",
       "10135 -1.212287  0.751452 -0.508511  0.204713 -0.068494  \n",
       "10136 -1.317475  0.780927  0.530194  0.261081 -0.166257  \n",
       "10137  0.253198  0.655080 -0.131303  0.520360  0.236223  \n",
       "10138  2.374053 -0.307809 -0.852678  0.764610 -1.093888  \n",
       "10139  1.955315 -0.569438 -1.871756 -3.663214 -1.778038  \n",
       "\n",
       "[10140 rows x 12 columns]"
      ]
     },
     "execution_count": 47,
     "metadata": {},
     "output_type": "execute_result"
    }
   ],
   "source": [
    "# Perform PCA\n",
    "n_components = 12  # Note if we set the n_components to 22 no reduction will be made BUT the data will be centered around the (0,0) and might also be scaled by dividing each feature by its SD\n",
    "\n",
    "pca = PCA(n_components=n_components)\n",
    "mush_encoded_pca = pca.fit_transform(mush_encoded_features)\n",
    "\n",
    "# Generate column names dynamically\n",
    "column_names = [f\"PC{i}\" for i in range(1, n_components + 1)]\n",
    "\n",
    "# Convert transformed data to a DataFrame with appropriate column names\n",
    "mush_encoded_pca_df = pd.DataFrame(mush_encoded_pca, columns=column_names)\n",
    "mush_encoded_pca_df"
   ]
  },
  {
   "cell_type": "markdown",
   "id": "3b7623bd-cf4b-4d53-9687-7463542c32f7",
   "metadata": {},
   "source": [
    "# <span style=\"color:cyan\">Classification - SVM</span>\n"
   ]
  },
  {
   "cell_type": "markdown",
   "id": "54d88633",
   "metadata": {},
   "source": [
    "## <span style=\"color:#00FF8B; font-size: 28px;\"> SVM - With Hyper Parameter Using Grid Search</span>\n"
   ]
  },
  {
   "cell_type": "markdown",
   "id": "ce5b8027",
   "metadata": {},
   "source": [
    "longer version of tuning , we are going to use grid search to find the best hyper parameters\n",
    "\n",
    "Grid search uses cross validation technique to compare between (different sets of parameters) (grid)\n"
   ]
  },
  {
   "cell_type": "code",
   "execution_count": 48,
   "id": "d6413b4a",
   "metadata": {},
   "outputs": [
    {
     "data": {
      "text/plain": [
       "' # class column is taken as a numpy array\\ny = mush_encoded[\"class\"].values\\n\\n# All the features are separated from our target value or label and stored in x\\nx = mush_encoded_pca\\n\\n# Split the data into training and test sets\\nx_train, x_test, y_train, y_test = train_test_split(\\n\\n    x, y, random_state=42, test_size=0.25\\n\\n)\\n\\n# Define the parameter grid to search, values to be tested\\nparam_grid = {\\n\\n    \"C\": [0.1, 1, 10, 100],  # Regularization parameter\\n\\n    \"gamma\": [\"scale\", \"auto\", 0.1, 1],  # Kernel coefficient\\n\\n    \"kernel\": [\"linear\", \"rbf\", \"poly\"],  # Kernel type\\n\\n}\\n\\n# Initialize the SVM classifier\\nsvm = SVC(random_state=42)\\n\\n# Initialize GridSearchCV with the SVM classifier and parameter grid\\ngrid_search = GridSearchCV(\\n    svm, param_grid, cv=5\\n)  # cv = the number subsets used for cross validation\\n\\n# Perform grid search\\ngrid_search.fit(x_train, y_train)\\n\\n# Print the best parameters found\\nprint(\"Best Parameters:\", grid_search.best_params_)\\n\\n# Print the best cross-validation score found\\nprint(\"Best Cross-validation Score:\", grid_search.best_score_)\\n\\n# Retrain the model with the best parameters found on the full training set\\nbest_svm = grid_search.best_estimator_\\n\\nbest_svm.fit(x_train, y_train)\\n\\n# Finally, print the test accuracy of the best model\\nprint(\\n\\n    \"Test Accuracy after Grid Search: {}%\".format(\\n\\n        best_svm.score(x_test, y_test) * 100, 2\\n\\n    )\\n\\n)\\n '"
      ]
     },
     "execution_count": 48,
     "metadata": {},
     "output_type": "execute_result"
    }
   ],
   "source": [
    "\"\"\" # class column is taken as a numpy array\n",
    "y = mush_encoded[\"class\"].values\n",
    "\n",
    "# All the features are separated from our target value or label and stored in x\n",
    "x = mush_encoded_pca\n",
    "\n",
    "# Split the data into training and test sets\n",
    "x_train, x_test, y_train, y_test = train_test_split(\n",
    "\n",
    "    x, y, random_state=42, test_size=0.25\n",
    "\n",
    ")\n",
    "\n",
    "# Define the parameter grid to search, values to be tested\n",
    "param_grid = {\n",
    "\n",
    "    \"C\": [0.1, 1, 10, 100],  # Regularization parameter\n",
    "\n",
    "    \"gamma\": [\"scale\", \"auto\", 0.1, 1],  # Kernel coefficient\n",
    "\n",
    "    \"kernel\": [\"linear\", \"rbf\", \"poly\"],  # Kernel type\n",
    "\n",
    "}\n",
    "\n",
    "# Initialize the SVM classifier\n",
    "svm = SVC(random_state=42)\n",
    "\n",
    "# Initialize GridSearchCV with the SVM classifier and parameter grid\n",
    "grid_search = GridSearchCV(\n",
    "    svm, param_grid, cv=5\n",
    ")  # cv = the number subsets used for cross validation\n",
    "\n",
    "# Perform grid search\n",
    "grid_search.fit(x_train, y_train)\n",
    "\n",
    "# Print the best parameters found\n",
    "print(\"Best Parameters:\", grid_search.best_params_)\n",
    "\n",
    "# Print the best cross-validation score found\n",
    "print(\"Best Cross-validation Score:\", grid_search.best_score_)\n",
    "\n",
    "# Retrain the model with the best parameters found on the full training set\n",
    "best_svm = grid_search.best_estimator_\n",
    "\n",
    "best_svm.fit(x_train, y_train)\n",
    "\n",
    "# Finally, print the test accuracy of the best model\n",
    "print(\n",
    "\n",
    "    \"Test Accuracy after Grid Search: {}%\".format(\n",
    "\n",
    "        best_svm.score(x_test, y_test) * 100, 2\n",
    "\n",
    "    )\n",
    "\n",
    ")\n",
    " \"\"\""
   ]
  },
  {
   "cell_type": "markdown",
   "id": "c0baacc9",
   "metadata": {},
   "source": [
    "Shorter version of tuning less testing parameters\n"
   ]
  },
  {
   "cell_type": "code",
   "execution_count": 49,
   "id": "6effbe05",
   "metadata": {},
   "outputs": [
    {
     "name": "stdout",
     "output_type": "stream",
     "text": [
      "Best Parameters: {'C': 0.1, 'gamma': 0.1, 'kernel': 'rbf'}\n",
      "Best Cross-validation Score: 0.9852728468113083\n",
      "Test Accuracy after Grid Search: 98.8560157790927%\n"
     ]
    }
   ],
   "source": [
    "# class column is taken as a numpy array\n",
    "y = mush_encoded[\"class\"].values\n",
    "\n",
    "# All the features are separated from our target value or label and stored in x\n",
    "x = mush_encoded_pca\n",
    "\n",
    "# Split the data into training and test sets\n",
    "x_train, x_test, y_train, y_test = train_test_split(\n",
    "    x, y, random_state=42, test_size=0.25\n",
    ")\n",
    "\n",
    "# Define the parameter grid to search, values to be tested\n",
    "param_grid = {\n",
    "    \"C\": [0.1, 0.01],  # Reduced values for C\n",
    "    \"gamma\": [\"scale\", 0.1],  # Reduced values for gamma\n",
    "    \"kernel\": [\"linear\", \"rbf\"],  # Limited kernel types\n",
    "}\n",
    "\n",
    "# Initialize the SVM classifier\n",
    "svm = SVC(random_state=42)\n",
    "\n",
    "# Initialize GridSearchCV with less options\n",
    "grid_search = GridSearchCV(\n",
    "    svm, param_grid, cv=3\n",
    ")  # Here we reduced the number of subsets CV for cross validation\n",
    "\n",
    "# Perform grid search\n",
    "grid_search.fit(x_train, y_train)\n",
    "\n",
    "# Print the best parameters found\n",
    "print(\"Best Parameters:\", grid_search.best_params_)\n",
    "\n",
    "# Print the best cross-validation score found\n",
    "print(\"Best Cross-validation Score:\", grid_search.best_score_)\n",
    "\n",
    "# Retrain the model with the best parameters found on the full training set\n",
    "best_svm = grid_search.best_estimator_\n",
    "best_svm.fit(x_train, y_train)\n",
    "\n",
    "# Finally, print the test accuracy of the best model\n",
    "print(\n",
    "    \"Test Accuracy after Grid Search: {}%\".format(\n",
    "        best_svm.score(x_test, y_test) * 100, 2\n",
    "    )\n",
    ")"
   ]
  },
  {
   "cell_type": "markdown",
   "id": "bdd152d1",
   "metadata": {},
   "source": [
    "## <span style=\"color:#00FF8B; font-size: 28px;\"> SVM - No Tuning </span>\n"
   ]
  },
  {
   "cell_type": "code",
   "execution_count": 50,
   "id": "5aa637ef",
   "metadata": {},
   "outputs": [
    {
     "name": "stdout",
     "output_type": "stream",
     "text": [
      "Test Accuracy: 98.81656804733728%\n"
     ]
    }
   ],
   "source": [
    "# Separate target and features\n",
    "y = mush_encoded[\"class\"].values\n",
    "x = mush_encoded_pca\n",
    "\n",
    "# Split data into training and test sets\n",
    "x_train, x_test, y_train, y_test = train_test_split(\n",
    "    x, y, random_state=42, test_size=0.3\n",
    ")\n",
    "\n",
    "# Initialize SVM classifier with preferred parameters\n",
    "svm = SVC(C=0.5, gamma=\"scale\", kernel=\"rbf\", random_state=42)\n",
    "\"\"\" \n",
    "C -> lower value -> softer margin -> allows for misclassifications on train but generalize well\n",
    "\n",
    "gamma -> determines the influence of each training sample and affects the flexibility of the decision boundary,\n",
    "    smaller gamma value implies a larger influence radius for each support vector, resulting in a smoother decision boundary. \n",
    "    Conversely, a larger gamma value narrows the influence radius, leading to a more complex and tightly fitted decision boundary\n",
    "    \n",
    "kernel -> rbf is commonly used due to its flexibility in capturing nonlinear decision boundaries.\n",
    "\"\"\"\n",
    "\n",
    "# Train the SVM classifier\n",
    "svm.fit(x_train, y_train)\n",
    "\n",
    "# Calculate and print test accuracy\n",
    "test_accuracy = svm.score(x_test, y_test) * 100\n",
    "print(\"Test Accuracy: {}%\".format(test_accuracy))"
   ]
  }
 ],
 "metadata": {
  "kernelspec": {
   "display_name": "Python 3 (ipykernel)",
   "language": "python",
   "name": "python3"
  },
  "language_info": {
   "codemirror_mode": {
    "name": "ipython",
    "version": 3
   },
   "file_extension": ".py",
   "mimetype": "text/x-python",
   "name": "python",
   "nbconvert_exporter": "python",
   "pygments_lexer": "ipython3",
   "version": "3.11.9"
  }
 },
 "nbformat": 4,
 "nbformat_minor": 5
}
